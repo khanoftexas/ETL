{
 "cells": [
  {
   "cell_type": "code",
   "execution_count": 4,
   "metadata": {},
   "outputs": [],
   "source": [
    "from splinter import Browser\n",
    "from bs4 import BeautifulSoup as bs\n",
    "import time\n",
    "import requests"
   ]
  },
  {
   "cell_type": "code",
   "execution_count": 5,
   "metadata": {},
   "outputs": [
    {
     "name": "stdout",
     "output_type": "stream",
     "text": [
      "\n",
      "Vulnerable\n",
      "\n",
      "\n",
      "Approximately 415,000 in the wild\n",
      "\n",
      "\n",
      "Loxodonta africana\n",
      "\n",
      "\n",
      "Shoulder height is 11 feet\n",
      "\n",
      "\n",
      "6 tons\n",
      "\n",
      "\n",
      "19-24 feet\n",
      "\n",
      "\n",
      "Tropical and Subtropical Moist Broadleaf Forests, Flooded Grasslands and Savannahs, Miombo woodlands, Acacia savannahs\n",
      "\n",
      "\n",
      "\n",
      "\n",
      "\n",
      "\n",
      "Savanna Elephant\n",
      " \n",
      "\n",
      "\n",
      "\n",
      "Forest Elephant\n",
      " \n",
      "\n",
      "\n"
     ]
    }
   ],
   "source": [
    "  \n",
    "url = \"https://www.worldwildlife.org/species/african-elephant\"\n",
    "response = requests.get(url)\n",
    "time.sleep(1)\n",
    "\n",
    "# Scrape page into Soup\n",
    "\n",
    "soup = bs(response.text, 'html')\n",
    "\n",
    "overview_species = soup.find('div', id='overview')\n",
    "all_overview = overview_species.find_all('div', class_='container')\n",
    "for each in all_overview:\n",
    "    print(each.text)\n"
   ]
  },
  {
   "cell_type": "code",
   "execution_count": 11,
   "metadata": {},
   "outputs": [
    {
     "name": "stdout",
     "output_type": "stream",
     "text": [
      "['African Elephant', 'African Wild Dog', 'Albacore Tuna', 'Amazon River Dolphin', 'Amur Leopard', 'Amur Tiger', 'Arctic Fox', 'Arctic Wolf', 'Asian Elephant', 'Beluga', 'Bengal Tiger', 'Bigeye Tuna', 'Black Rhino', 'Black Spider Monkey', 'Black-footed Ferret', 'Blue Whale', 'Bluefin Tuna', 'Bonobo', 'Bornean Orangutan', 'Borneo Pygmy Elephant', 'Bowhead Whale', 'Brown Bear', 'Chimpanzee', 'Common Bottlenose Dolphin', 'Cross River Gorilla', 'Dolphins and Porpoises', 'Dugong', 'Eastern Lowland Gorilla', 'Elephant', 'Fin Whale', 'Forest Elephant', 'Galápagos Penguin', 'Ganges River Dolphin', 'Giant Panda', 'Giant Tortoise', 'Gorilla', 'Gray Whale', 'Great White Shark', 'Greater One-Horned Rhino', 'Greater Sage-Grouse', 'Green Turtle', 'Hawksbill Turtle', \"Hector's Dolphin\", 'Hippopotamus', 'Humphead Wrasse', 'Indian Elephant', 'Indochinese Tiger', 'Indus River Dolphin', 'Irrawaddy Dolphin', 'Jaguar']\n"
     ]
    }
   ],
   "source": [
    "url = \"https://www.worldwildlife.org/species/directory?page=1\"\n",
    "response = requests.get(url)\n",
    "time.sleep(1)\n",
    "endangered_animals = []\n",
    "# Scrape page into Soup\n",
    "\n",
    "soup = bs(response.text, 'html')\n",
    "\n",
    "results = soup.find_all('td', class_ ='keep')\n",
    "\n",
    "for result in results:\n",
    "    animal = result.text\n",
    "    endangered_animals.append(animal)\n",
    "print(endangered_animals)"
   ]
  },
  {
   "cell_type": "code",
   "execution_count": null,
   "metadata": {},
   "outputs": [],
   "source": []
  },
  {
   "cell_type": "code",
   "execution_count": null,
   "metadata": {},
   "outputs": [],
   "source": []
  }
 ],
 "metadata": {
  "kernelspec": {
   "display_name": "Python 3",
   "language": "python",
   "name": "python3"
  },
  "language_info": {
   "codemirror_mode": {
    "name": "ipython",
    "version": 3
   },
   "file_extension": ".py",
   "mimetype": "text/x-python",
   "name": "python",
   "nbconvert_exporter": "python",
   "pygments_lexer": "ipython3",
   "version": "3.7.2"
  }
 },
 "nbformat": 4,
 "nbformat_minor": 2
}
