{
 "cells": [
  {
   "cell_type": "code",
   "execution_count": 10,
   "metadata": {},
   "outputs": [],
   "source": [
    "from splinter import Browser\n",
    "from bs4 import BeautifulSoup as bs\n",
    "import time\n",
    "import requests\n",
    "import re"
   ]
  },
  {
   "cell_type": "code",
   "execution_count": null,
   "metadata": {},
   "outputs": [],
   "source": [
    "url = \"https://www.worldwildlife.org/species/directory?page=1\"\n",
    "response = requests.get(url)\n",
    "time.sleep(1)\n",
    "endangered_animals = []\n",
    "# Scrape page into Soup\n",
    "\n",
    "soup = bs(response.text, 'html')\n",
    "\n",
    "results = soup.find_all('td', class_ ='keep')\n",
    "\n",
    "for result in results:\n",
    "    animal = result.text\n",
    "    endangered_animals.append(animal)\n",
    "print(endangered_animals)"
   ]
  },
  {
   "cell_type": "code",
   "execution_count": 3,
   "metadata": {},
   "outputs": [
    {
     "name": "stdout",
     "output_type": "stream",
     "text": [
      "Status\n",
      "\n",
      "Vulnerable\n",
      "\n",
      "Population\n",
      "\n",
      "Approximately 415,000 in the wild\n",
      "\n",
      "Scientific Name\n",
      "\n",
      "Loxodonta africana\n",
      "\n",
      "Height\n",
      "\n",
      "Shoulder height is 11 feet\n",
      "\n",
      "Weight\n",
      "\n",
      "6 tons\n",
      "\n",
      "Length\n",
      "\n",
      "19-24 feet\n",
      "\n",
      "Habitat\n",
      "\n",
      "Tropical and Subtropical Moist Broadleaf Forests, Flooded Grasslands and Savannahs, Miombo woodlands, Acacia savannahs\n",
      "\n"
     ]
    }
   ],
   "source": [
    "url = \"https://www.worldwildlife.org/species/african-elephant\"\n",
    "response = requests.get(url)\n",
    "time.sleep(1)\n",
    "en_dict = {}\n",
    "# Scrape page into Soup\n",
    "\n",
    "soup = bs(response.text, 'html')\n",
    "\n",
    "overview_species = soup.find('div', id='overview')\n",
    "all_overview = overview_species.find_all('div', class_='container')\n",
    "en_dict[\"Status\"] = all_overview[0].text\n",
    "en_dict[\"Population\"] = all_overview[1].text\n",
    "en_dict[\"Scientific Name\"] = all_overview[2].text\n",
    "\n",
    "for keys,values in en_dict.items():\n",
    "    print(keys)\n",
    "    print(values)\n"
   ]
  },
  {
   "cell_type": "code",
   "execution_count": 23,
   "metadata": {},
   "outputs": [
    {
     "name": "stdout",
     "output_type": "stream",
     "text": [
      "\n",
      "The African elephant is the largest animal walking the Earth. Their herds wander through 37 countries in Africa. They are easily recognized by their trunk that is used for communication and handling objects. And their large ears allow them to radiate excess heat. Upper incisor teeth develop into tusks in African elephants and grow throughout their lifetime. There are two subspecies of African elephants—the Savanna (or bush) elephant and the Forest elephant. Savanna elephants are larger than forest elephants, and their tusks curve outwards. In addition to being smaller, forest elephants are darker and their tusks are straighter and point downward. There are also differences in the size and shape of the skull and skeleton between the two subspecies.\n",
      "Forest elephants, a distinct subspecies of African elephants, are uniquely adapted to the forest habitat of the Congo Basin, but are in sharp decline due to poaching for the international ivory trade. It is estimated that probably one quarter to one third of the total African elephant population is made up of forest elephants.\n",
      "\n"
     ]
    }
   ],
   "source": [
    "desc1 = soup.find('div', class_='wysiwyg lead').text\n",
    "print(desc1)"
   ]
  },
  {
   "cell_type": "code",
   "execution_count": 22,
   "metadata": {},
   "outputs": [
    {
     "name": "stdout",
     "output_type": "stream",
     "text": [
      "https://c402277.ssl.cf1.rackcdn.com/photos/882/images/hero_small/African_Elephant_7.27.2012_hero_and_circle_HI_53941.jpg?1345532748\n"
     ]
    }
   ],
   "source": [
    "image_path = soup.find('img',class_='centered')\n",
    "species_image = image_path['src']\n",
    "print(species_image)\n"
   ]
  },
  {
   "cell_type": "code",
   "execution_count": 21,
   "metadata": {},
   "outputs": [
    {
     "name": "stdout",
     "output_type": "stream",
     "text": [
      "<img alt=\"African elephant browsing on bush\" class=\"centered\" src=\"https://c402277.ssl.cf1.rackcdn.com/photos/882/images/hero_small/African_Elephant_7.27.2012_hero_and_circle_HI_53941.jpg?1345532748\"/>\n"
     ]
    }
   ],
   "source": [
    "images = soup.find('img', {'src':re.compile('.jpg')}) \n",
    "species_image = images['src']\n",
    "print(images)"
   ]
  },
  {
   "cell_type": "code",
   "execution_count": null,
   "metadata": {},
   "outputs": [],
   "source": []
  }
 ],
 "metadata": {
  "kernelspec": {
   "display_name": "Python 3",
   "language": "python",
   "name": "python3"
  },
  "language_info": {
   "codemirror_mode": {
    "name": "ipython",
    "version": 3
   },
   "file_extension": ".py",
   "mimetype": "text/x-python",
   "name": "python",
   "nbconvert_exporter": "python",
   "pygments_lexer": "ipython3",
   "version": "3.7.1"
  }
 },
 "nbformat": 4,
 "nbformat_minor": 2
}
