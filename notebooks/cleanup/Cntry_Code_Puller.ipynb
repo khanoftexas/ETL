{
 "cells": [
  {
   "cell_type": "code",
   "execution_count": 1,
   "metadata": {},
   "outputs": [],
   "source": [
    "# Dependencies for Selenium\n",
    "from selenium import webdriver\n",
    "from selenium.webdriver.common.by import By\n",
    "from selenium.webdriver.support.ui import WebDriverWait\n",
    "from selenium.webdriver.support import expected_conditions as EC"
   ]
  },
  {
   "cell_type": "code",
   "execution_count": 2,
   "metadata": {},
   "outputs": [],
   "source": [
    "# Dependencies -cont'd\n",
    "import pandas as pd"
   ]
  },
  {
   "cell_type": "code",
   "execution_count": 3,
   "metadata": {},
   "outputs": [],
   "source": [
    "# url for country codes\n",
    "url = 'https://countrycode.org/'\n",
    "\n",
    "# Use selenium in Chrome \n",
    "driver = webdriver.Chrome()\n",
    "# Get url of the iterated webpage\n",
    "driver.get(url)\n",
    "\n",
    "try:\n",
    "    # Use WebDriverWait in combination with ExpectedCondition to setup implicit wait\n",
    "    # In this case, it is 10s for id=\"geographic-range\" to respond to calls before sending Exception message\n",
    "    element = WebDriverWait(driver, 10).until(\n",
    "        EC.presence_of_element_located((By.CLASS_NAME, \"bootstrap-table\"))\n",
    "    )\n",
    "\n",
    "    # Search for extant countries of iterated animal using with \"xpath\"\n",
    "    cntry_hd = driver.find_elements_by_xpath(\"/html/body/div[3]/div[1]/div[1]/div[2]/div[2]/table/thead/tr/th[1]/div[1]\")\n",
    "    cntry_cd_hd = driver.find_elements_by_xpath(\"/html/body/div[3]/div[1]/div[1]/div[2]/div[2]/table/thead/tr/th[2]/div[1]\")\n",
    "    iso_cd_hd = driver.find_elements_by_xpath(\"/html/body/div[3]/div[1]/div[1]/div[2]/div[2]/table/thead/tr/th[3]/div[1]\")\n",
    "\n",
    "    cntry_col = driver.find_elements_by_xpath(\"/html/body/div[3]/div[1]/div[1]/div[2]/div[2]/table/tbody/tr/td[1]/a\")\n",
    "    cntry_cd_col = driver.find_elements_by_xpath(\"/html/body/div[3]/div[1]/div[1]/div[2]/div[2]/table/tbody/tr/td[2]/span\")\n",
    "    iso_cd_col = driver.find_elements_by_xpath(\"/html/body/div[3]/div[1]/div[1]/div[2]/div[2]/table/tbody/tr/td[3]\")\n",
    "      \n",
    "except:\n",
    "    raise Exception('Timed out. Cannot find it..')"
   ]
  },
  {
   "cell_type": "code",
   "execution_count": 4,
   "metadata": {},
   "outputs": [
    {
     "data": {
      "text/html": [
       "<div>\n",
       "<style scoped>\n",
       "    .dataframe tbody tr th:only-of-type {\n",
       "        vertical-align: middle;\n",
       "    }\n",
       "\n",
       "    .dataframe tbody tr th {\n",
       "        vertical-align: top;\n",
       "    }\n",
       "\n",
       "    .dataframe thead th {\n",
       "        text-align: right;\n",
       "    }\n",
       "</style>\n",
       "<table border=\"1\" class=\"dataframe\">\n",
       "  <thead>\n",
       "    <tr style=\"text-align: right;\">\n",
       "      <th></th>\n",
       "      <th>COUNTRY</th>\n",
       "      <th>COUNTRY CODE</th>\n",
       "      <th>ISO CODES</th>\n",
       "    </tr>\n",
       "  </thead>\n",
       "  <tbody>\n",
       "    <tr>\n",
       "      <th>0</th>\n",
       "      <td>Afghanistan</td>\n",
       "      <td>93</td>\n",
       "      <td>AF / AFG</td>\n",
       "    </tr>\n",
       "    <tr>\n",
       "      <th>1</th>\n",
       "      <td>Albania</td>\n",
       "      <td>355</td>\n",
       "      <td>AL / ALB</td>\n",
       "    </tr>\n",
       "    <tr>\n",
       "      <th>2</th>\n",
       "      <td>Algeria</td>\n",
       "      <td>213</td>\n",
       "      <td>DZ / DZA</td>\n",
       "    </tr>\n",
       "    <tr>\n",
       "      <th>3</th>\n",
       "      <td>American Samoa</td>\n",
       "      <td>1-684</td>\n",
       "      <td>AS / ASM</td>\n",
       "    </tr>\n",
       "    <tr>\n",
       "      <th>4</th>\n",
       "      <td>Andorra</td>\n",
       "      <td>376</td>\n",
       "      <td>AD / AND</td>\n",
       "    </tr>\n",
       "  </tbody>\n",
       "</table>\n",
       "</div>"
      ],
      "text/plain": [
       "          COUNTRY COUNTRY CODE ISO CODES\n",
       "0     Afghanistan           93  AF / AFG\n",
       "1         Albania          355  AL / ALB\n",
       "2         Algeria          213  DZ / DZA\n",
       "3  American Samoa        1-684  AS / ASM\n",
       "4         Andorra          376  AD / AND"
      ]
     },
     "execution_count": 4,
     "metadata": {},
     "output_type": "execute_result"
    }
   ],
   "source": [
    "# Save country code data in Pandas DataFrame\n",
    "cntry_code_df = pd.DataFrame({\n",
    "    cntry_hd[0].text:[cntry_col[i].text for i in range(len(cntry_col))],\n",
    "    cntry_cd_hd[0].text:[cntry_cd_col[i].text for i in range(len(cntry_col))],\n",
    "    iso_cd_hd[0].text: [iso_cd_col[i].text for i in range(len(cntry_col))]\n",
    "})\n",
    "\n",
    "# Preview \"cntry_code_df\"\n",
    "cntry_code_df.head()"
   ]
  },
  {
   "cell_type": "code",
   "execution_count": 5,
   "metadata": {},
   "outputs": [],
   "source": [
    "# Save cntry_code_df as csv file\n",
    "cntry_code_df.to_csv(\"../data/rawdata/cntry_code.csv\", index=False, header=True)"
   ]
  },
  {
   "cell_type": "code",
   "execution_count": 6,
   "metadata": {},
   "outputs": [],
   "source": [
    "# Clear the driver after scraping of the iterated animal\n",
    "driver.close()"
   ]
  }
 ],
 "metadata": {
  "kernelspec": {
   "display_name": "Python 3",
   "language": "python",
   "name": "python3"
  },
  "language_info": {
   "codemirror_mode": {
    "name": "ipython",
    "version": 3
   },
   "file_extension": ".py",
   "mimetype": "text/x-python",
   "name": "python",
   "nbconvert_exporter": "python",
   "pygments_lexer": "ipython3",
   "version": "3.7.1"
  }
 },
 "nbformat": 4,
 "nbformat_minor": 2
}
