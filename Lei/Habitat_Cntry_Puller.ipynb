{
 "cells": [
  {
   "cell_type": "code",
   "execution_count": 1,
   "metadata": {},
   "outputs": [],
   "source": [
    "# Dependencies for Selenium\n",
    "from selenium import webdriver\n",
    "from selenium.webdriver.common.by import By\n",
    "from selenium.webdriver.support.ui import WebDriverWait\n",
    "from selenium.webdriver.support import expected_conditions as EC"
   ]
  },
  {
   "cell_type": "code",
   "execution_count": 2,
   "metadata": {},
   "outputs": [],
   "source": [
    "# Dependencies -cont'd\n",
    "import pandas as pd\n",
    "import numpy as np"
   ]
  },
  {
   "cell_type": "code",
   "execution_count": 3,
   "metadata": {},
   "outputs": [],
   "source": [
    "# Dependency -cont'd\n",
    "import time"
   ]
  },
  {
   "cell_type": "code",
   "execution_count": 4,
   "metadata": {},
   "outputs": [
    {
     "data": {
      "text/html": [
       "<div>\n",
       "<style scoped>\n",
       "    .dataframe tbody tr th:only-of-type {\n",
       "        vertical-align: middle;\n",
       "    }\n",
       "\n",
       "    .dataframe tbody tr th {\n",
       "        vertical-align: top;\n",
       "    }\n",
       "\n",
       "    .dataframe thead th {\n",
       "        text-align: right;\n",
       "    }\n",
       "</style>\n",
       "<table border=\"1\" class=\"dataframe\">\n",
       "  <thead>\n",
       "    <tr style=\"text-align: right;\">\n",
       "      <th></th>\n",
       "      <th>Common_Name</th>\n",
       "      <th>Other_Name</th>\n",
       "      <th>IUCN_WebID</th>\n",
       "    </tr>\n",
       "  </thead>\n",
       "  <tbody>\n",
       "    <tr>\n",
       "      <th>0</th>\n",
       "      <td>African Elephant</td>\n",
       "      <td>NaN</td>\n",
       "      <td>12392/3339343</td>\n",
       "    </tr>\n",
       "    <tr>\n",
       "      <th>1</th>\n",
       "      <td>African Wild Dog</td>\n",
       "      <td>NaN</td>\n",
       "      <td>12436/16711116</td>\n",
       "    </tr>\n",
       "    <tr>\n",
       "      <th>2</th>\n",
       "      <td>Albacore Tuna</td>\n",
       "      <td>NaN</td>\n",
       "      <td>21856/9325450</td>\n",
       "    </tr>\n",
       "    <tr>\n",
       "      <th>3</th>\n",
       "      <td>Amazon River Dolphin</td>\n",
       "      <td>NaN</td>\n",
       "      <td>10831/50358152</td>\n",
       "    </tr>\n",
       "    <tr>\n",
       "      <th>4</th>\n",
       "      <td>Amur Leopard</td>\n",
       "      <td>NaN</td>\n",
       "      <td>15954/102421779</td>\n",
       "    </tr>\n",
       "  </tbody>\n",
       "</table>\n",
       "</div>"
      ],
      "text/plain": [
       "            Common_Name Other_Name       IUCN_WebID\n",
       "0      African Elephant        NaN    12392/3339343\n",
       "1      African Wild Dog        NaN   12436/16711116\n",
       "2         Albacore Tuna        NaN    21856/9325450\n",
       "3  Amazon River Dolphin        NaN   10831/50358152\n",
       "4          Amur Leopard        NaN  15954/102421779"
      ]
     },
     "execution_count": 4,
     "metadata": {},
     "output_type": "execute_result"
    }
   ],
   "source": [
    "# Read animal web ID for urls on www.iucnredlist.org and convert it to Pandas DataFrame\n",
    "animal_df = pd.read_csv('./data/rawdata/animal_species_for_scraping.csv', encoding='UTF-8')\n",
    "\n",
    "# Preview \"animal_df\"\n",
    "animal_df.head()"
   ]
  },
  {
   "cell_type": "code",
   "execution_count": 5,
   "metadata": {},
   "outputs": [
    {
     "data": {
      "text/plain": [
       "69"
      ]
     },
     "execution_count": 5,
     "metadata": {},
     "output_type": "execute_result"
    }
   ],
   "source": [
    "# list to store animal habitat country (cntry) after scraping\n",
    "hab_cntry = []\n",
    "\n",
    "# Loop through animal web ID\n",
    "for i in range(len(animal_df)):\n",
    "\n",
    "    # Time intervals between two adjacent query\n",
    "    time.sleep(1.5)\n",
    "    \n",
    "    # Reset url to basic url before each iteration\n",
    "    url = 'https://www.iucnredlist.org/species/'\n",
    "    # Generating complete url by concatenating basic url with animal web ID\n",
    "    url += str(animal_df['IUCN_WebID'][i])\n",
    "    \n",
    "    # Use selenium in Chrome \n",
    "    driver = webdriver.Chrome()\n",
    "    # Get url of the iterated webpage\n",
    "    driver.get(url)\n",
    "\n",
    "    try:\n",
    "        # Use WebDriverWait in combination with ExpectedCondition to setup implicit wait\n",
    "        # In this case, it is 10s for id=\"geographic-range\" to respond to calls before sending Exception message\n",
    "        element = WebDriverWait(driver, 10).until(\n",
    "            EC.presence_of_element_located((By.ID, \"geographic-range\"))\n",
    "        )\n",
    "\n",
    "        try:\n",
    "            # Search for extant countries of iterated animal using with \"xpath\"\n",
    "            query = driver.find_elements_by_xpath(\"//*[@id='geographic-range']/div[1]/div[1]/div/div[1]/p\")\n",
    "            \n",
    "            # Convert the query result to country-containing list\n",
    "            cntries = query[0].text.split(';')\n",
    "            \n",
    "        except:\n",
    "            # If no extant countries is found, assign \"cntries\" as '' in list\n",
    "            cntries = ['']\n",
    "            \n",
    "        # Append extant countries of iterated animal to \"hab_cntry\" as an entire list\n",
    "        hab_cntry.append(cntries)\n",
    "        \n",
    "    except:\n",
    "        raise Exception('Timed out. Cannot find it..')\n",
    "    \n",
    "    # Clear the driver after scraping of the iterated animal\n",
    "    driver.close()\n",
    "\n",
    "# Check the length of \"hab_cntry\" after all scrapings are done\n",
    "len(hab_cntry)"
   ]
  },
  {
   "cell_type": "code",
   "execution_count": 6,
   "metadata": {},
   "outputs": [
    {
     "data": {
      "text/html": [
       "<div>\n",
       "<style scoped>\n",
       "    .dataframe tbody tr th:only-of-type {\n",
       "        vertical-align: middle;\n",
       "    }\n",
       "\n",
       "    .dataframe tbody tr th {\n",
       "        vertical-align: top;\n",
       "    }\n",
       "\n",
       "    .dataframe thead th {\n",
       "        text-align: right;\n",
       "    }\n",
       "</style>\n",
       "<table border=\"1\" class=\"dataframe\">\n",
       "  <thead>\n",
       "    <tr style=\"text-align: right;\">\n",
       "      <th></th>\n",
       "      <th>Common_Name</th>\n",
       "      <th>Other_Name</th>\n",
       "      <th>Habitat_Cntry</th>\n",
       "    </tr>\n",
       "  </thead>\n",
       "  <tbody>\n",
       "    <tr>\n",
       "      <th>0</th>\n",
       "      <td>African Elephant</td>\n",
       "      <td>NaN</td>\n",
       "      <td>[Angola,  Benin,  Botswana,  Burkina Faso,  Ca...</td>\n",
       "    </tr>\n",
       "    <tr>\n",
       "      <th>1</th>\n",
       "      <td>African Wild Dog</td>\n",
       "      <td>NaN</td>\n",
       "      <td>[Angola,  Benin,  Botswana,  Burkina Faso,  Ce...</td>\n",
       "    </tr>\n",
       "    <tr>\n",
       "      <th>2</th>\n",
       "      <td>Albacore Tuna</td>\n",
       "      <td>NaN</td>\n",
       "      <td>[Algeria,  American Samoa,  Angola,  Anguilla,...</td>\n",
       "    </tr>\n",
       "    <tr>\n",
       "      <th>3</th>\n",
       "      <td>Amazon River Dolphin</td>\n",
       "      <td>NaN</td>\n",
       "      <td>[Bolivia, Plurinational States of,  Brazil,  C...</td>\n",
       "    </tr>\n",
       "    <tr>\n",
       "      <th>4</th>\n",
       "      <td>Amur Leopard</td>\n",
       "      <td>NaN</td>\n",
       "      <td>[South Sudan]</td>\n",
       "    </tr>\n",
       "  </tbody>\n",
       "</table>\n",
       "</div>"
      ],
      "text/plain": [
       "            Common_Name Other_Name  \\\n",
       "0      African Elephant        NaN   \n",
       "1      African Wild Dog        NaN   \n",
       "2         Albacore Tuna        NaN   \n",
       "3  Amazon River Dolphin        NaN   \n",
       "4          Amur Leopard        NaN   \n",
       "\n",
       "                                       Habitat_Cntry  \n",
       "0  [Angola,  Benin,  Botswana,  Burkina Faso,  Ca...  \n",
       "1  [Angola,  Benin,  Botswana,  Burkina Faso,  Ce...  \n",
       "2  [Algeria,  American Samoa,  Angola,  Anguilla,...  \n",
       "3  [Bolivia, Plurinational States of,  Brazil,  C...  \n",
       "4                                      [South Sudan]  "
      ]
     },
     "execution_count": 6,
     "metadata": {},
     "output_type": "execute_result"
    }
   ],
   "source": [
    "# Add animal habitat country in \"animal_df\"\n",
    "animal_df[\"Habitat_Cntry\"] = hab_cntry\n",
    "\n",
    "# Delete row of \"IUCN_WebID\" in \"animal_df\"\n",
    "del animal_df['IUCN_WebID']\n",
    "\n",
    "# Preview \"animal_df\"\n",
    "animal_df.head()"
   ]
  },
  {
   "cell_type": "code",
   "execution_count": 7,
   "metadata": {},
   "outputs": [],
   "source": [
    "animal_df.to_csv(\"./data/cleandata/animal_species_with_habitat_country.csv\", index=False, header=True)"
   ]
  }
 ],
 "metadata": {
  "kernelspec": {
   "display_name": "Python 3",
   "language": "python",
   "name": "python3"
  },
  "language_info": {
   "codemirror_mode": {
    "name": "ipython",
    "version": 3
   },
   "file_extension": ".py",
   "mimetype": "text/x-python",
   "name": "python",
   "nbconvert_exporter": "python",
   "pygments_lexer": "ipython3",
   "version": "3.7.1"
  }
 },
 "nbformat": 4,
 "nbformat_minor": 2
}
