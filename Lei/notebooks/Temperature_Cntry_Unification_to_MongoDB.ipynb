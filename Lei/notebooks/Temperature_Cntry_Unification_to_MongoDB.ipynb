{
 "cells": [
  {
   "cell_type": "code",
   "execution_count": 1,
   "metadata": {},
   "outputs": [],
   "source": [
    "# Module used to connect Python to MongoDB\n",
    "import pymongo"
   ]
  },
  {
   "cell_type": "code",
   "execution_count": 2,
   "metadata": {},
   "outputs": [],
   "source": [
    "# Dependencies -cont'd\n",
    "import pandas as pd"
   ]
  },
  {
   "cell_type": "code",
   "execution_count": 3,
   "metadata": {},
   "outputs": [],
   "source": [
    "# Setup connection to MongoDB using default port 27017\n",
    "conn = 'mongodb://localhost:27017'\n",
    "client = pymongo.MongoClient(conn)"
   ]
  },
  {
   "cell_type": "code",
   "execution_count": 4,
   "metadata": {},
   "outputs": [],
   "source": [
    "# Establish \"EndangeredAnimalDB\" Database and \"temp_by_cntry\" Collection\n",
    "db = client.EndangeredAnimalDB\n",
    "coll = db.temp_by_cntry"
   ]
  },
  {
   "cell_type": "code",
   "execution_count": 5,
   "metadata": {},
   "outputs": [
    {
     "data": {
      "text/html": [
       "<div>\n",
       "<style scoped>\n",
       "    .dataframe tbody tr th:only-of-type {\n",
       "        vertical-align: middle;\n",
       "    }\n",
       "\n",
       "    .dataframe tbody tr th {\n",
       "        vertical-align: top;\n",
       "    }\n",
       "\n",
       "    .dataframe thead th {\n",
       "        text-align: right;\n",
       "    }\n",
       "</style>\n",
       "<table border=\"1\" class=\"dataframe\">\n",
       "  <thead>\n",
       "    <tr style=\"text-align: right;\">\n",
       "      <th></th>\n",
       "      <th>dt</th>\n",
       "      <th>AverageTemperature</th>\n",
       "      <th>AverageTemperatureUncertainty</th>\n",
       "      <th>Country</th>\n",
       "    </tr>\n",
       "  </thead>\n",
       "  <tbody>\n",
       "    <tr>\n",
       "      <th>0</th>\n",
       "      <td>1743-11-01</td>\n",
       "      <td>4.384</td>\n",
       "      <td>2.294</td>\n",
       "      <td>Åland</td>\n",
       "    </tr>\n",
       "    <tr>\n",
       "      <th>1</th>\n",
       "      <td>1743-12-01</td>\n",
       "      <td>NaN</td>\n",
       "      <td>NaN</td>\n",
       "      <td>Åland</td>\n",
       "    </tr>\n",
       "    <tr>\n",
       "      <th>2</th>\n",
       "      <td>1744-01-01</td>\n",
       "      <td>NaN</td>\n",
       "      <td>NaN</td>\n",
       "      <td>Åland</td>\n",
       "    </tr>\n",
       "    <tr>\n",
       "      <th>3</th>\n",
       "      <td>1744-02-01</td>\n",
       "      <td>NaN</td>\n",
       "      <td>NaN</td>\n",
       "      <td>Åland</td>\n",
       "    </tr>\n",
       "    <tr>\n",
       "      <th>4</th>\n",
       "      <td>1744-03-01</td>\n",
       "      <td>NaN</td>\n",
       "      <td>NaN</td>\n",
       "      <td>Åland</td>\n",
       "    </tr>\n",
       "  </tbody>\n",
       "</table>\n",
       "</div>"
      ],
      "text/plain": [
       "           dt  AverageTemperature  AverageTemperatureUncertainty Country\n",
       "0  1743-11-01               4.384                          2.294   Åland\n",
       "1  1743-12-01                 NaN                            NaN   Åland\n",
       "2  1744-01-01                 NaN                            NaN   Åland\n",
       "3  1744-02-01                 NaN                            NaN   Åland\n",
       "4  1744-03-01                 NaN                            NaN   Åland"
      ]
     },
     "execution_count": 5,
     "metadata": {},
     "output_type": "execute_result"
    }
   ],
   "source": [
    "# Read TempByCntry data retrieved from https://data.world/data-society/global-climate-change-data\n",
    "temp_df = pd.read_csv('../data/rawdata/GlobalLandTemperaturesByCountry.csv', encoding='UTF-8')\n",
    "\n",
    "# Preview \"temp_df\"\n",
    "temp_df.head()"
   ]
  },
  {
   "cell_type": "code",
   "execution_count": 6,
   "metadata": {},
   "outputs": [
    {
     "data": {
      "text/plain": [
       "243"
      ]
     },
     "execution_count": 6,
     "metadata": {},
     "output_type": "execute_result"
    }
   ],
   "source": [
    "# List to store unique cntry names in \"temp_df\"\n",
    "uniq_cntry = []\n",
    "\n",
    "# Append unique cntry name to \"uniq_cntry\"\n",
    "[uniq_cntry.append(cntry) for cntry in temp_df.Country.unique()]\n",
    "\n",
    "# Check the length of \"uniq_cntry\"\n",
    "len(uniq_cntry)"
   ]
  },
  {
   "cell_type": "code",
   "execution_count": 7,
   "metadata": {},
   "outputs": [
    {
     "data": {
      "text/html": [
       "<div>\n",
       "<style scoped>\n",
       "    .dataframe tbody tr th:only-of-type {\n",
       "        vertical-align: middle;\n",
       "    }\n",
       "\n",
       "    .dataframe tbody tr th {\n",
       "        vertical-align: top;\n",
       "    }\n",
       "\n",
       "    .dataframe thead th {\n",
       "        text-align: right;\n",
       "    }\n",
       "</style>\n",
       "<table border=\"1\" class=\"dataframe\">\n",
       "  <thead>\n",
       "    <tr style=\"text-align: right;\">\n",
       "      <th></th>\n",
       "      <th>COUNTRY</th>\n",
       "      <th>COUNTRY CODE</th>\n",
       "      <th>ISO CODES</th>\n",
       "    </tr>\n",
       "  </thead>\n",
       "  <tbody>\n",
       "    <tr>\n",
       "      <th>0</th>\n",
       "      <td>Afghanistan</td>\n",
       "      <td>93</td>\n",
       "      <td>AF / AFG</td>\n",
       "    </tr>\n",
       "    <tr>\n",
       "      <th>1</th>\n",
       "      <td>Albania</td>\n",
       "      <td>355</td>\n",
       "      <td>AL / ALB</td>\n",
       "    </tr>\n",
       "    <tr>\n",
       "      <th>2</th>\n",
       "      <td>Algeria</td>\n",
       "      <td>213</td>\n",
       "      <td>DZ / DZA</td>\n",
       "    </tr>\n",
       "    <tr>\n",
       "      <th>3</th>\n",
       "      <td>American Samoa</td>\n",
       "      <td>1-684</td>\n",
       "      <td>AS / ASM</td>\n",
       "    </tr>\n",
       "    <tr>\n",
       "      <th>4</th>\n",
       "      <td>Andorra</td>\n",
       "      <td>376</td>\n",
       "      <td>AD / AND</td>\n",
       "    </tr>\n",
       "  </tbody>\n",
       "</table>\n",
       "</div>"
      ],
      "text/plain": [
       "          COUNTRY COUNTRY CODE ISO CODES\n",
       "0     Afghanistan           93  AF / AFG\n",
       "1         Albania          355  AL / ALB\n",
       "2         Algeria          213  DZ / DZA\n",
       "3  American Samoa        1-684  AS / ASM\n",
       "4         Andorra          376  AD / AND"
      ]
     },
     "execution_count": 7,
     "metadata": {},
     "output_type": "execute_result"
    }
   ],
   "source": [
    "# Read country info provided on https://countrycode.org/ and convert it to Pandas DataFrame\n",
    "cntry_code_df = pd.read_csv('../data/rawdata/cntry_code.csv', encoding='UTF-8')\n",
    "\n",
    "# Preview \"animal_df\"\n",
    "cntry_code_df.head()"
   ]
  },
  {
   "cell_type": "code",
   "execution_count": 8,
   "metadata": {},
   "outputs": [
    {
     "data": {
      "text/plain": [
       "44"
      ]
     },
     "execution_count": 8,
     "metadata": {},
     "output_type": "execute_result"
    }
   ],
   "source": [
    "# Checklist to store cntry names from \"uniq_cntry\" that are different as shown in 'cntry_code_df\n",
    "cntry_chkl = []\n",
    "\n",
    "# Search for inconsistent names in \"uniq_cntry\"\n",
    "[cntry_chkl.append(cntry) for cntry in uniq_cntry if cntry not in list(cntry_code_df.COUNTRY)]\n",
    "\n",
    "# Check the length of \"cntry_chkl\"\n",
    "len(cntry_chkl)"
   ]
  },
  {
   "cell_type": "code",
   "execution_count": 9,
   "metadata": {},
   "outputs": [],
   "source": [
    "# Dict to store inconsistency cntry names\n",
    "cntry_change = {}\n",
    "\n",
    "# Names from \"cntry_chkl\" will be set as 'key' with corresponding \"cntry_code_df\" ones as 'value'\n",
    "cntry_change[cntry_chkl[0]] = 'Finland'\n",
    "cntry_change[cntry_chkl[1]] = 'DELETE'\n",
    "cntry_change[cntry_chkl[2]] = 'Antigua and Barbuda'\n",
    "cntry_change[cntry_chkl[3]] = 'DELETE'\n",
    "cntry_change[cntry_chkl[4]] = 'United States Minor Outlying Islands'\n",
    "cntry_change[cntry_chkl[5]] = 'Netherlands Antilles'\n",
    "cntry_change[cntry_chkl[6]] = 'Bosnia and Herzegovina'\n",
    "cntry_change[cntry_chkl[7]] = 'Myanmar'\n",
    "cntry_change[cntry_chkl[8]] = 'Ivory Coast'\n",
    "cntry_change[cntry_chkl[9]] = 'Democratic Republic of the Congo'\n",
    "cntry_change[cntry_chkl[10]] = 'Republic of the Congo'\n",
    "cntry_change[cntry_chkl[11]] = 'Curacao'\n",
    "cntry_change[cntry_chkl[12]] = 'Denmark'\n",
    "cntry_change[cntry_chkl[13]] = 'DELETE'\n",
    "cntry_change[cntry_chkl[14]] = 'Falkland Islands'\n",
    "cntry_change[cntry_chkl[15]] = 'Micronesia'\n",
    "cntry_change[cntry_chkl[16]] = 'France'\n",
    "cntry_change[cntry_chkl[17]] = 'French Guiana'\n",
    "cntry_change[cntry_chkl[18]] = 'French Southern Territories'\n",
    "cntry_change[cntry_chkl[19]] = 'Palestine'\n",
    "cntry_change[cntry_chkl[20]] = 'Saint Martin'\n",
    "cntry_change[cntry_chkl[21]] = 'Guinea-Bissau'\n",
    "cntry_change[cntry_chkl[22]] = 'Heard Island and McDonald Islands'\n",
    "cntry_change[cntry_chkl[23]] = 'Isle of Man'\n",
    "cntry_change[cntry_chkl[24]] = 'United States Minor Outlying Islands'\n",
    "cntry_change[cntry_chkl[25]] = 'Martinique'\n",
    "cntry_change[cntry_chkl[26]] = 'Netherlands'\n",
    "cntry_change[cntry_chkl[27]] = 'DELETE'\n",
    "cntry_change[cntry_chkl[28]] = 'DELETE'\n",
    "cntry_change[cntry_chkl[29]] = 'Palestine'\n",
    "cntry_change[cntry_chkl[30]] = 'United States Minor Outlying Islands'\n",
    "cntry_change[cntry_chkl[31]] = 'Saint Barthelemy'\n",
    "cntry_change[cntry_chkl[32]] = 'Saint Kitts and Nevis'\n",
    "cntry_change[cntry_chkl[33]] = 'Saint Pierre and Miquelon'\n",
    "cntry_change[cntry_chkl[34]] = 'Saint Vincent and the Grenadines'\n",
    "cntry_change[cntry_chkl[35]] = 'Sao Tome and Principe'\n",
    "cntry_change[cntry_chkl[36]] = 'DELETE'\n",
    "cntry_change[cntry_chkl[37]] = 'Falkland Islands'\n",
    "cntry_change[cntry_chkl[38]] = 'Svalbard and Jan Mayen'\n",
    "cntry_change[cntry_chkl[39]] = 'East Timor'\n",
    "cntry_change[cntry_chkl[40]] = 'Trinidad and Tobago'\n",
    "cntry_change[cntry_chkl[41]] = 'Turks and Caicos Islands'\n",
    "cntry_change[cntry_chkl[42]] = 'United Kingdom'\n",
    "cntry_change[cntry_chkl[43]] = 'U.S. Virgin Islands'"
   ]
  },
  {
   "cell_type": "code",
   "execution_count": 10,
   "metadata": {},
   "outputs": [
    {
     "data": {
      "text/html": [
       "<div>\n",
       "<style scoped>\n",
       "    .dataframe tbody tr th:only-of-type {\n",
       "        vertical-align: middle;\n",
       "    }\n",
       "\n",
       "    .dataframe tbody tr th {\n",
       "        vertical-align: top;\n",
       "    }\n",
       "\n",
       "    .dataframe thead th {\n",
       "        text-align: right;\n",
       "    }\n",
       "</style>\n",
       "<table border=\"1\" class=\"dataframe\">\n",
       "  <thead>\n",
       "    <tr style=\"text-align: right;\">\n",
       "      <th></th>\n",
       "      <th>dt</th>\n",
       "      <th>AverageTemperature</th>\n",
       "      <th>AverageTemperatureUncertainty</th>\n",
       "      <th>Country</th>\n",
       "    </tr>\n",
       "  </thead>\n",
       "  <tbody>\n",
       "    <tr>\n",
       "      <th>0</th>\n",
       "      <td>1743-11-01</td>\n",
       "      <td>4.384</td>\n",
       "      <td>2.294</td>\n",
       "      <td>Finland</td>\n",
       "    </tr>\n",
       "    <tr>\n",
       "      <th>1</th>\n",
       "      <td>1743-12-01</td>\n",
       "      <td>NaN</td>\n",
       "      <td>NaN</td>\n",
       "      <td>Finland</td>\n",
       "    </tr>\n",
       "    <tr>\n",
       "      <th>2</th>\n",
       "      <td>1744-01-01</td>\n",
       "      <td>NaN</td>\n",
       "      <td>NaN</td>\n",
       "      <td>Finland</td>\n",
       "    </tr>\n",
       "    <tr>\n",
       "      <th>3</th>\n",
       "      <td>1744-02-01</td>\n",
       "      <td>NaN</td>\n",
       "      <td>NaN</td>\n",
       "      <td>Finland</td>\n",
       "    </tr>\n",
       "    <tr>\n",
       "      <th>4</th>\n",
       "      <td>1744-03-01</td>\n",
       "      <td>NaN</td>\n",
       "      <td>NaN</td>\n",
       "      <td>Finland</td>\n",
       "    </tr>\n",
       "  </tbody>\n",
       "</table>\n",
       "</div>"
      ],
      "text/plain": [
       "           dt  AverageTemperature  AverageTemperatureUncertainty  Country\n",
       "0  1743-11-01               4.384                          2.294  Finland\n",
       "1  1743-12-01                 NaN                            NaN  Finland\n",
       "2  1744-01-01                 NaN                            NaN  Finland\n",
       "3  1744-02-01                 NaN                            NaN  Finland\n",
       "4  1744-03-01                 NaN                            NaN  Finland"
      ]
     },
     "execution_count": 10,
     "metadata": {},
     "output_type": "execute_result"
    }
   ],
   "source": [
    "# Change inconsistent cntry names in 'Country' column of \"temp_df\"\n",
    "for cntry in cntry_chkl:\n",
    "    if cntry in list(temp_df.Country):\n",
    "        temp_df.loc[temp_df.Country == cntry, 'Country'] = cntry_change[cntry]\n",
    "\n",
    "# Preview \"temp_df\" \n",
    "temp_df.head()"
   ]
  },
  {
   "cell_type": "code",
   "execution_count": 11,
   "metadata": {},
   "outputs": [
    {
     "name": "stdout",
     "output_type": "stream",
     "text": [
      "There are 577462 rows of data before rows with \"DELETE\" are removed\n",
      "There are 563059 rows of data after rows with \"DELETE\" have been removed\n"
     ]
    }
   ],
   "source": [
    "# Check length of \"temp_df\" before deleting rows\n",
    "print(f'There are {len(temp_df)} rows of data before rows with \"DELETE\" are removed')\n",
    "\n",
    "# Delete temperature data with \"Country\" name as continent\n",
    "temp_df = temp_df[~temp_df.Country.isin(['DELETE'])]\n",
    "\n",
    "# Check length of \"temp_df\" after deleting rows\n",
    "print(f'There are {len(temp_df)} rows of data after rows with \"DELETE\" have been removed')"
   ]
  },
  {
   "cell_type": "code",
   "execution_count": 12,
   "metadata": {},
   "outputs": [
    {
     "data": {
      "text/html": [
       "<div>\n",
       "<style scoped>\n",
       "    .dataframe tbody tr th:only-of-type {\n",
       "        vertical-align: middle;\n",
       "    }\n",
       "\n",
       "    .dataframe tbody tr th {\n",
       "        vertical-align: top;\n",
       "    }\n",
       "\n",
       "    .dataframe thead th {\n",
       "        text-align: right;\n",
       "    }\n",
       "</style>\n",
       "<table border=\"1\" class=\"dataframe\">\n",
       "  <thead>\n",
       "    <tr style=\"text-align: right;\">\n",
       "      <th></th>\n",
       "      <th>Date</th>\n",
       "      <th>Avg Temp</th>\n",
       "      <th>Avg Temp Uncertainty</th>\n",
       "      <th>Cntry</th>\n",
       "    </tr>\n",
       "  </thead>\n",
       "  <tbody>\n",
       "    <tr>\n",
       "      <th>0</th>\n",
       "      <td>1743-11-01</td>\n",
       "      <td>4.384</td>\n",
       "      <td>2.294</td>\n",
       "      <td>Finland</td>\n",
       "    </tr>\n",
       "    <tr>\n",
       "      <th>1</th>\n",
       "      <td>1743-12-01</td>\n",
       "      <td>NaN</td>\n",
       "      <td>NaN</td>\n",
       "      <td>Finland</td>\n",
       "    </tr>\n",
       "    <tr>\n",
       "      <th>2</th>\n",
       "      <td>1744-01-01</td>\n",
       "      <td>NaN</td>\n",
       "      <td>NaN</td>\n",
       "      <td>Finland</td>\n",
       "    </tr>\n",
       "    <tr>\n",
       "      <th>3</th>\n",
       "      <td>1744-02-01</td>\n",
       "      <td>NaN</td>\n",
       "      <td>NaN</td>\n",
       "      <td>Finland</td>\n",
       "    </tr>\n",
       "    <tr>\n",
       "      <th>4</th>\n",
       "      <td>1744-03-01</td>\n",
       "      <td>NaN</td>\n",
       "      <td>NaN</td>\n",
       "      <td>Finland</td>\n",
       "    </tr>\n",
       "  </tbody>\n",
       "</table>\n",
       "</div>"
      ],
      "text/plain": [
       "         Date  Avg Temp  Avg Temp Uncertainty    Cntry\n",
       "0  1743-11-01     4.384                 2.294  Finland\n",
       "1  1743-12-01       NaN                   NaN  Finland\n",
       "2  1744-01-01       NaN                   NaN  Finland\n",
       "3  1744-02-01       NaN                   NaN  Finland\n",
       "4  1744-03-01       NaN                   NaN  Finland"
      ]
     },
     "execution_count": 12,
     "metadata": {},
     "output_type": "execute_result"
    }
   ],
   "source": [
    "# Rename column names in \"temp_df\"\n",
    "temp_df = temp_df.rename(\n",
    "    columns={\n",
    "        'Country': 'Cntry',\n",
    "        'dt': 'Date',\n",
    "        'AverageTemperature': 'Avg Temp',\n",
    "        'AverageTemperatureUncertainty': 'Avg Temp Uncertainty'}\n",
    "        )\n",
    "\n",
    "# Preview \"temp_df\"\n",
    "temp_df.head()"
   ]
  },
  {
   "cell_type": "code",
   "execution_count": 13,
   "metadata": {},
   "outputs": [
    {
     "data": {
      "text/plain": [
       "<pymongo.results.InsertManyResult at 0x26876ed9ec8>"
      ]
     },
     "execution_count": 13,
     "metadata": {},
     "output_type": "execute_result"
    }
   ],
   "source": [
    "# Wrap up \"temp_df\" for mongoDB\n",
    "post = temp_df.to_dict(orient='records')\n",
    "\n",
    "# Insert \"temp_df\" into mongoDB\n",
    "coll.insert_many(post)"
   ]
  },
  {
   "cell_type": "code",
   "execution_count": null,
   "metadata": {},
   "outputs": [],
   "source": []
  }
 ],
 "metadata": {
  "kernelspec": {
   "display_name": "Python 3",
   "language": "python",
   "name": "python3"
  },
  "language_info": {
   "codemirror_mode": {
    "name": "ipython",
    "version": 3
   },
   "file_extension": ".py",
   "mimetype": "text/x-python",
   "name": "python",
   "nbconvert_exporter": "python",
   "pygments_lexer": "ipython3",
   "version": "3.7.2"
  }
 },
 "nbformat": 4,
 "nbformat_minor": 2
}
