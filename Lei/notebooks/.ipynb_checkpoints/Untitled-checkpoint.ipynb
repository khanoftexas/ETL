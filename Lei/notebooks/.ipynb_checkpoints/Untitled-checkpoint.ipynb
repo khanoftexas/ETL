{
 "cells": [
  {
   "cell_type": "code",
   "execution_count": 1,
   "metadata": {},
   "outputs": [],
   "source": [
    "import pymongo"
   ]
  },
  {
   "cell_type": "code",
   "execution_count": 2,
   "metadata": {},
   "outputs": [],
   "source": [
    "import pandas as pd"
   ]
  },
  {
   "cell_type": "code",
   "execution_count": 3,
   "metadata": {},
   "outputs": [],
   "source": [
    "# Setup connection to MongoDB using default port 27017\n",
    "conn = 'mongodb://localhost:27017'\n",
    "client = pymongo.MongoClient(conn)"
   ]
  },
  {
   "cell_type": "code",
   "execution_count": 5,
   "metadata": {},
   "outputs": [],
   "source": [
    "# Establish \"EndangeredAnimalDB\" Database and \"animal_facts\" Collection\n",
    "db = client.EndangeredAnimalDB\n",
    "col = db.animal_facts"
   ]
  },
  {
   "cell_type": "code",
   "execution_count": 11,
   "metadata": {},
   "outputs": [
    {
     "data": {
      "text/plain": [
       "{'db': 'EndangeredAnimalDB',\n",
       " 'collections': 1,\n",
       " 'views': 0,\n",
       " 'objects': 69,\n",
       " 'avgObjSize': 737.6086956521739,\n",
       " 'dataSize': 50895.0,\n",
       " 'storageSize': 77824.0,\n",
       " 'numExtents': 0,\n",
       " 'indexes': 1,\n",
       " 'indexSize': 36864.0,\n",
       " 'fsUsedSize': 72312352768.0,\n",
       " 'fsTotalSize': 254622560256.0,\n",
       " 'ok': 1.0}"
      ]
     },
     "execution_count": 11,
     "metadata": {},
     "output_type": "execute_result"
    }
   ],
   "source": [
    "# Check statistics of \"EndangeredAnimalDB\"\n",
    "db.command(\"dbstats\")"
   ]
  },
  {
   "cell_type": "code",
   "execution_count": 28,
   "metadata": {},
   "outputs": [
    {
     "data": {
      "text/html": [
       "<div>\n",
       "<style scoped>\n",
       "    .dataframe tbody tr th:only-of-type {\n",
       "        vertical-align: middle;\n",
       "    }\n",
       "\n",
       "    .dataframe tbody tr th {\n",
       "        vertical-align: top;\n",
       "    }\n",
       "\n",
       "    .dataframe thead th {\n",
       "        text-align: right;\n",
       "    }\n",
       "</style>\n",
       "<table border=\"1\" class=\"dataframe\">\n",
       "  <thead>\n",
       "    <tr style=\"text-align: right;\">\n",
       "      <th></th>\n",
       "      <th>COUNTRY</th>\n",
       "      <th>COUNTRY CODE</th>\n",
       "      <th>ISO CODES</th>\n",
       "    </tr>\n",
       "  </thead>\n",
       "  <tbody>\n",
       "    <tr>\n",
       "      <th>0</th>\n",
       "      <td>Afghanistan</td>\n",
       "      <td>93</td>\n",
       "      <td>AF / AFG</td>\n",
       "    </tr>\n",
       "    <tr>\n",
       "      <th>1</th>\n",
       "      <td>Albania</td>\n",
       "      <td>355</td>\n",
       "      <td>AL / ALB</td>\n",
       "    </tr>\n",
       "    <tr>\n",
       "      <th>2</th>\n",
       "      <td>Algeria</td>\n",
       "      <td>213</td>\n",
       "      <td>DZ / DZA</td>\n",
       "    </tr>\n",
       "    <tr>\n",
       "      <th>3</th>\n",
       "      <td>American Samoa</td>\n",
       "      <td>1-684</td>\n",
       "      <td>AS / ASM</td>\n",
       "    </tr>\n",
       "    <tr>\n",
       "      <th>4</th>\n",
       "      <td>Andorra</td>\n",
       "      <td>376</td>\n",
       "      <td>AD / AND</td>\n",
       "    </tr>\n",
       "  </tbody>\n",
       "</table>\n",
       "</div>"
      ],
      "text/plain": [
       "          COUNTRY COUNTRY CODE ISO CODES\n",
       "0     Afghanistan           93  AF / AFG\n",
       "1         Albania          355  AL / ALB\n",
       "2         Algeria          213  DZ / DZA\n",
       "3  American Samoa        1-684  AS / ASM\n",
       "4         Andorra          376  AD / AND"
      ]
     },
     "execution_count": 28,
     "metadata": {},
     "output_type": "execute_result"
    }
   ],
   "source": [
    "# Read country code for urls on www.iucnredlist.org and convert it to Pandas DataFrame\n",
    "cntry_code_df = pd.read_csv('../data/rawdata/cntry_code.csv', encoding='UTF-8')\n",
    "\n",
    "# Preview \"animal_df\"\n",
    "cntry_code_df.head()"
   ]
  },
  {
   "cell_type": "code",
   "execution_count": 24,
   "metadata": {},
   "outputs": [
    {
     "data": {
      "text/html": [
       "<div>\n",
       "<style scoped>\n",
       "    .dataframe tbody tr th:only-of-type {\n",
       "        vertical-align: middle;\n",
       "    }\n",
       "\n",
       "    .dataframe tbody tr th {\n",
       "        vertical-align: top;\n",
       "    }\n",
       "\n",
       "    .dataframe thead th {\n",
       "        text-align: right;\n",
       "    }\n",
       "</style>\n",
       "<table border=\"1\" class=\"dataframe\">\n",
       "  <thead>\n",
       "    <tr style=\"text-align: right;\">\n",
       "      <th></th>\n",
       "      <th>Common_Name</th>\n",
       "      <th>IUCN_WebID</th>\n",
       "    </tr>\n",
       "  </thead>\n",
       "  <tbody>\n",
       "    <tr>\n",
       "      <th>0</th>\n",
       "      <td>African Elephant</td>\n",
       "      <td>12392/3339343</td>\n",
       "    </tr>\n",
       "    <tr>\n",
       "      <th>1</th>\n",
       "      <td>African Wild Dog</td>\n",
       "      <td>12436/16711116</td>\n",
       "    </tr>\n",
       "    <tr>\n",
       "      <th>2</th>\n",
       "      <td>Albacore Tuna</td>\n",
       "      <td>21856/9325450</td>\n",
       "    </tr>\n",
       "    <tr>\n",
       "      <th>3</th>\n",
       "      <td>Amazon River Dolphin</td>\n",
       "      <td>10831/50358152</td>\n",
       "    </tr>\n",
       "    <tr>\n",
       "      <th>4</th>\n",
       "      <td>Amur Leopard</td>\n",
       "      <td>15954/102421779</td>\n",
       "    </tr>\n",
       "  </tbody>\n",
       "</table>\n",
       "</div>"
      ],
      "text/plain": [
       "            Common_Name       IUCN_WebID\n",
       "0      African Elephant    12392/3339343\n",
       "1      African Wild Dog   12436/16711116\n",
       "2         Albacore Tuna    21856/9325450\n",
       "3  Amazon River Dolphin   10831/50358152\n",
       "4          Amur Leopard  15954/102421779"
      ]
     },
     "execution_count": 24,
     "metadata": {},
     "output_type": "execute_result"
    }
   ],
   "source": [
    "# Read animal web ID for urls on www.iucnredlist.org and convert it to Pandas DataFrame\n",
    "animal_df = pd.read_csv('../data/rawdata/animal_iucn_webid.csv', encoding='UTF-8')\n",
    "\n",
    "# Preview \"animal_df\"\n",
    "animal_df.head()"
   ]
  },
  {
   "cell_type": "code",
   "execution_count": 29,
   "metadata": {},
   "outputs": [],
   "source": [
    "temp = col.find_one({'Common_Name': animal_df['Common_Name'][0]})\n",
    "mylist = temp['Native_Extant_Resident_Cntry']"
   ]
  },
  {
   "cell_type": "code",
   "execution_count": 35,
   "metadata": {},
   "outputs": [
    {
     "data": {
      "text/plain": [
       "[244,\n",
       " 229,\n",
       " 267,\n",
       " 226,\n",
       " 237,\n",
       " 236,\n",
       " 235,\n",
       " 'TBD',\n",
       " 'TBD',\n",
       " 'TBD',\n",
       " 240,\n",
       " 291,\n",
       " 251,\n",
       " 233,\n",
       " 224,\n",
       " 245,\n",
       " 254,\n",
       " 231,\n",
       " 265,\n",
       " 223,\n",
       " 258,\n",
       " 264,\n",
       " 227,\n",
       " 234,\n",
       " 250,\n",
       " 221,\n",
       " 232,\n",
       " 252,\n",
       " 27,\n",
       " 211,\n",
       " 'TBD',\n",
       " 228,\n",
       " 256,\n",
       " 260,\n",
       " 263]"
      ]
     },
     "execution_count": 35,
     "metadata": {},
     "output_type": "execute_result"
    }
   ],
   "source": [
    "code_list = []\n",
    "for i in range(len(mylist)):\n",
    "    if mylist[i] in list(cntry_code_df.COUNTRY):\n",
    "        code_list.append(int(cntry_code_df.loc[cntry_code_df.COUNTRY == mylist[i], 'COUNTRY CODE']))\n",
    "    else:\n",
    "        code_list.append(\"TBD\")\n",
    "code_list\n",
    "        "
   ]
  },
  {
   "cell_type": "code",
   "execution_count": 33,
   "metadata": {},
   "outputs": [
    {
     "data": {
      "text/plain": [
       "list"
      ]
     },
     "execution_count": 33,
     "metadata": {},
     "output_type": "execute_result"
    }
   ],
   "source": []
  },
  {
   "cell_type": "code",
   "execution_count": null,
   "metadata": {},
   "outputs": [],
   "source": []
  }
 ],
 "metadata": {
  "kernelspec": {
   "display_name": "Python 3",
   "language": "python",
   "name": "python3"
  },
  "language_info": {
   "codemirror_mode": {
    "name": "ipython",
    "version": 3
   },
   "file_extension": ".py",
   "mimetype": "text/x-python",
   "name": "python",
   "nbconvert_exporter": "python",
   "pygments_lexer": "ipython3",
   "version": "3.7.1"
  }
 },
 "nbformat": 4,
 "nbformat_minor": 2
}
