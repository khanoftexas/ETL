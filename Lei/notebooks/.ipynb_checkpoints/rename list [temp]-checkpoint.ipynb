{
 "cells": [
  {
   "cell_type": "code",
   "execution_count": 179,
   "metadata": {},
   "outputs": [],
   "source": [
    "# Module used to connect Python to MongoDB\n",
    "import pymongo"
   ]
  },
  {
   "cell_type": "code",
   "execution_count": 180,
   "metadata": {},
   "outputs": [],
   "source": [
    "# Dependencies -cont'd\n",
    "import pandas as pd"
   ]
  },
  {
   "cell_type": "code",
   "execution_count": 186,
   "metadata": {},
   "outputs": [
    {
     "data": {
      "text/html": [
       "<div>\n",
       "<style scoped>\n",
       "    .dataframe tbody tr th:only-of-type {\n",
       "        vertical-align: middle;\n",
       "    }\n",
       "\n",
       "    .dataframe tbody tr th {\n",
       "        vertical-align: top;\n",
       "    }\n",
       "\n",
       "    .dataframe thead th {\n",
       "        text-align: right;\n",
       "    }\n",
       "</style>\n",
       "<table border=\"1\" class=\"dataframe\">\n",
       "  <thead>\n",
       "    <tr style=\"text-align: right;\">\n",
       "      <th></th>\n",
       "      <th>COUNTRY</th>\n",
       "      <th>COUNTRY CODE</th>\n",
       "      <th>ISO CODES</th>\n",
       "    </tr>\n",
       "  </thead>\n",
       "  <tbody>\n",
       "    <tr>\n",
       "      <th>0</th>\n",
       "      <td>Afghanistan</td>\n",
       "      <td>93</td>\n",
       "      <td>AF / AFG</td>\n",
       "    </tr>\n",
       "    <tr>\n",
       "      <th>1</th>\n",
       "      <td>Albania</td>\n",
       "      <td>355</td>\n",
       "      <td>AL / ALB</td>\n",
       "    </tr>\n",
       "    <tr>\n",
       "      <th>2</th>\n",
       "      <td>Algeria</td>\n",
       "      <td>213</td>\n",
       "      <td>DZ / DZA</td>\n",
       "    </tr>\n",
       "    <tr>\n",
       "      <th>3</th>\n",
       "      <td>American Samoa</td>\n",
       "      <td>1-684</td>\n",
       "      <td>AS / ASM</td>\n",
       "    </tr>\n",
       "    <tr>\n",
       "      <th>4</th>\n",
       "      <td>Andorra</td>\n",
       "      <td>376</td>\n",
       "      <td>AD / AND</td>\n",
       "    </tr>\n",
       "  </tbody>\n",
       "</table>\n",
       "</div>"
      ],
      "text/plain": [
       "          COUNTRY COUNTRY CODE ISO CODES\n",
       "0     Afghanistan           93  AF / AFG\n",
       "1         Albania          355  AL / ALB\n",
       "2         Algeria          213  DZ / DZA\n",
       "3  American Samoa        1-684  AS / ASM\n",
       "4         Andorra          376  AD / AND"
      ]
     },
     "execution_count": 186,
     "metadata": {},
     "output_type": "execute_result"
    }
   ],
   "source": [
    "# Read country info provided on https://countrycode.org/ and convert it to Pandas DataFrame\n",
    "cntry_code_df = pd.read_csv('../data/rawdata/cntry_code.csv', encoding='UTF-8')\n",
    "\n",
    "# Preview \"animal_df\"\n",
    "cntry_code_df.head()"
   ]
  },
  {
   "cell_type": "code",
   "execution_count": 181,
   "metadata": {},
   "outputs": [],
   "source": [
    "# Setup connection to MongoDB using default port 27017\n",
    "conn = 'mongodb://localhost:27017'\n",
    "client = pymongo.MongoClient(conn)"
   ]
  },
  {
   "cell_type": "code",
   "execution_count": 182,
   "metadata": {},
   "outputs": [],
   "source": [
    "# Establish \"EndangeredAnimalDB\" Database and \"animal_facts\" Collection\n",
    "db = client.EndangeredAnimalDB\n",
    "coll = db.animal_facts"
   ]
  },
  {
   "cell_type": "code",
   "execution_count": 198,
   "metadata": {},
   "outputs": [
    {
     "name": "stdout",
     "output_type": "stream",
     "text": [
      "There are 69 documents in \"animal_facts\" Collection.\n",
      "\n",
      "All documents have animal common names.\n"
     ]
    }
   ],
   "source": [
    "# Retrieve all documents in \"animal_facts\" Collection\n",
    "documents = coll.find()\n",
    "\n",
    "# List to store animal common names on each document from \"animal_facts\" Collection\n",
    "name_list = []\n",
    "\n",
    "# Set the initial value of document counter to 0\n",
    "docu_ct = 0\n",
    "\n",
    "# Loop through all documents\n",
    "for docu in documents:\n",
    "    # Add one to document counter\n",
    "    docu_ct += 1\n",
    "    # Append animal common name on each document to \"name_list\"\n",
    "    name_list.append(docu['Common_Name'])\n",
    "    \n",
    "# Make sure no animal common name is missing from the documents \n",
    "if len(name_list) == docu_ct:\n",
    "    # Print total document counts\n",
    "    print(f'There are {docu_ct} documents in \"animal_facts\" Collection.\\n')\n",
    "    print(f'All documents have animal common names.')"
   ]
  },
  {
   "cell_type": "code",
   "execution_count": 73,
   "metadata": {},
   "outputs": [
    {
     "data": {
      "text/plain": [
       "107"
      ]
     },
     "execution_count": 73,
     "metadata": {},
     "output_type": "execute_result"
    }
   ],
   "source": [
    "# Checklist to store cntry names from \"animal_facts\" that are different as shown in 'cntry_code_df'\n",
    "cntry_chkl = []\n",
    "\n",
    "# Loop through all documents from \"animal_facts\"\n",
    "for i in range(docu_ct):\n",
    "    docu = coll.find_one({'Common_Name': name_list['Common_Name'][i]})\n",
    "    \n",
    "    try:\n",
    "        im = docu['Native_Extant_Resident_Cntry']\n",
    "        [cntry_chkl.append(cntry) for cntry in im if cntry not in list(cntry_code_df.COUNTRY)\\\n",
    "            and cntry not in cntry_chkl]      \n",
    "  \n",
    "    except KeyError:\n",
    "        pass\n",
    "    \n",
    "    try:      \n",
    "        im = docu['Native_Extant_Cntry']\n",
    "        [cntry_chkl.append(cntry) for cntry in im if cntry not in list(cntry_code_df.COUNTRY)\\\n",
    "            and cntry not in cntry_chkl]    \n",
    "    except KeyError:\n",
    "        pass\n",
    "\n",
    "len(cntry_chkl)"
   ]
  },
  {
   "cell_type": "code",
   "execution_count": 176,
   "metadata": {},
   "outputs": [],
   "source": [
    "cntry_change = {}"
   ]
  },
  {
   "cell_type": "code",
   "execution_count": 177,
   "metadata": {},
   "outputs": [],
   "source": [
    "cntry_change[cntry_chkl[0]] = 'Republic of the Congo'\n",
    "cntry_change[cntry_chkl[1]] = 'Democratic Republic of the Congo'\n",
    "cntry_change[cntry_chkl[2]] = 'Ivory Coast'\n",
    "cntry_change[cntry_chkl[3]] = 'Tanzania'\n",
    "cntry_change[cntry_chkl[4]] = 'Netherlands Antilles'\n",
    "cntry_change[cntry_chkl[5]] = 'Cocos Islands'\n",
    "cntry_change[cntry_chkl[6]] = 'Curacao'\n",
    "cntry_change[cntry_chkl[7]] = 'French Guiana'\n",
    "cntry_change[cntry_chkl[8]] = 'Saint Martin'\n",
    "cntry_change[cntry_chkl[9]] = 'North Korea'\n",
    "cntry_change[cntry_chkl[10]] = 'South Korea'\n",
    "cntry_change[cntry_chkl[11]] = 'Martinique'\n",
    "cntry_change[cntry_chkl[12]] = 'Micronesia'\n",
    "cntry_change[cntry_chkl[13]] = 'Antarctica'\n",
    "cntry_change[cntry_chkl[14]] = 'Reunion'\n",
    "cntry_change[cntry_chkl[15]] = 'Saint Barthelemy'\n",
    "cntry_change[cntry_chkl[16]] = 'Saint Helena'\n",
    "cntry_change[cntry_chkl[17]] = 'Saint Martin'\n",
    "cntry_change[cntry_chkl[18]] = 'Sao Tome and Principe'\n",
    "cntry_change[cntry_chkl[19]] = 'Sint Maarten'\n",
    "cntry_change[cntry_chkl[20]] = 'Syria'\n",
    "cntry_change[cntry_chkl[21]] = 'Taiwan'\n",
    "cntry_change[cntry_chkl[22]] = 'East Timor'\n",
    "cntry_change[cntry_chkl[23]] = 'United States Minor Outlying Islands'\n",
    "cntry_change[cntry_chkl[24]] = 'Venezuela'\n",
    "cntry_change[cntry_chkl[25]] = 'Vietnam'\n",
    "cntry_change[cntry_chkl[26]] = 'British Virgin Islands'\n",
    "cntry_change[cntry_chkl[27]] = 'U.S. Virgin Islands'\n",
    "cntry_change[cntry_chkl[28]] = 'Bolivia'\n",
    "cntry_change[cntry_chkl[29]] = 'Russia'\n",
    "cntry_change[cntry_chkl[30]] = 'United States'\n",
    "cntry_change[cntry_chkl[31]] = 'Iran'\n",
    "cntry_change[cntry_chkl[32]] = 'Macedonia'\n",
    "cntry_change[cntry_chkl[33]] = 'Indonesia'\n",
    "cntry_change[cntry_chkl[34]] = 'Laos'\n",
    "cntry_change[cntry_chkl[35]] = 'Malaysia'\n",
    "cntry_change[cntry_chkl[36]] = 'Brunei'\n",
    "cntry_change[cntry_chkl[37]] = 'Falkland Islands'\n",
    "cntry_change[cntry_chkl[38]] = 'Brazil'\n",
    "cntry_change[cntry_chkl[39]] = 'French Southern Territories'\n",
    "cntry_change[cntry_chkl[40]] = 'Portugal'\n",
    "cntry_change[cntry_chkl[41]] = 'Russia'\n",
    "cntry_change[cntry_chkl[42]] = 'Falkland Islands'\n",
    "cntry_change[cntry_chkl[43]] = 'Spain'\n",
    "cntry_change[cntry_chkl[44]] = 'Indonesia'\n",
    "cntry_change[cntry_chkl[45]] = 'Malaysia'\n",
    "cntry_change[cntry_chkl[46]] = 'Equatorial Guinea'\n",
    "cntry_change[cntry_chkl[47]] = 'Netherlands Antilles'\n",
    "cntry_change[cntry_chkl[48]] = 'India'\n",
    "cntry_change[cntry_chkl[49]] = 'Japan'\n",
    "cntry_change[cntry_chkl[50]] = 'Mauritius'\n",
    "cntry_change[cntry_chkl[51]] = 'Papua New Guinea'\n",
    "cntry_change[cntry_chkl[52]] = 'Yemen'\n",
    "cntry_change[cntry_chkl[53]] = 'Bouvet Island'\n",
    "cntry_change[cntry_chkl[54]] = 'French Southern Territories'\n",
    "cntry_change[cntry_chkl[55]] = 'Heard Island and McDonald Islands'\n",
    "cntry_change[cntry_chkl[56]] = 'Saint Helena'\n",
    "cntry_change[cntry_chkl[57]] = 'Seychelles'\n",
    "cntry_change[cntry_chkl[58]] = 'Ecuador'\n",
    "cntry_change[cntry_chkl[59]] = 'China'\n",
    "cntry_change[cntry_chkl[60]] = 'Australia'\n",
    "cntry_change[cntry_chkl[61]] = 'United States'\n",
    "cntry_change[cntry_chkl[62]] = 'Australia'\n",
    "cntry_change[cntry_chkl[63]] = 'Netherlands Antilles'\n",
    "cntry_change[cntry_chkl[64]] = 'Equatorial Guinea'\n",
    "cntry_change[cntry_chkl[65]] = 'French Southern Territories'\n",
    "cntry_change[cntry_chkl[66]] = 'India'\n",
    "cntry_change[cntry_chkl[67]] = 'Indonesia'\n",
    "cntry_change[cntry_chkl[68]] = 'Japan'\n",
    "cntry_change[cntry_chkl[69]] = 'Malaysia'\n",
    "cntry_change[cntry_chkl[70]] = 'Mexico'\n",
    "cntry_change[cntry_chkl[71]] = 'New Zealand'\n",
    "cntry_change[cntry_chkl[72]] = 'Saint Helena'\n",
    "cntry_change[cntry_chkl[73]] = 'United States'\n",
    "cntry_change[cntry_chkl[74]] = 'United States Minor Outlying Islands'\n",
    "cntry_change[cntry_chkl[75]] = 'Venezuela'\n",
    "cntry_change[cntry_chkl[76]] = 'India'\n",
    "cntry_change[cntry_chkl[77]] = 'Mexico'\n",
    "cntry_change[cntry_chkl[78]] = 'United States'\n",
    "cntry_change[cntry_chkl[79]] = 'New Zealand'\n",
    "cntry_change[cntry_chkl[80]] = 'Australia'\n",
    "cntry_change[cntry_chkl[81]] = 'British Indian Ocean Territory'\n",
    "cntry_change[cntry_chkl[82]] = 'Disputed Territory'\n",
    "cntry_change[cntry_chkl[83]] = 'French Polynesia'\n",
    "cntry_change[cntry_chkl[84]] = 'India'\n",
    "cntry_change[cntry_chkl[85]] = 'Kiribati'\n",
    "cntry_change[cntry_chkl[86]] = 'United States Minor Outlying Islands'\n",
    "cntry_change[cntry_chkl[87]] = 'France'\n",
    "cntry_change[cntry_chkl[88]] = 'Netherlands Antilles'\n",
    "cntry_change[cntry_chkl[89]] = 'United States'\n",
    "cntry_change[cntry_chkl[90]] = 'Sao Tome and Principe'\n",
    "cntry_change[cntry_chkl[91]] = 'Venezuela'\n",
    "cntry_change[cntry_chkl[92]] = 'Canada'\n",
    "cntry_change[cntry_chkl[93]] = 'Canada'\n",
    "cntry_change[cntry_chkl[94]] = 'United States'\n",
    "cntry_change[cntry_chkl[95]] = 'Canada'\n",
    "cntry_change[cntry_chkl[96]] = 'Russia'\n",
    "cntry_change[cntry_chkl[97]] = 'Canada'\n",
    "cntry_change[cntry_chkl[98]] = 'Mexico'\n",
    "cntry_change[cntry_chkl[99]] = 'United States'\n",
    "cntry_change[cntry_chkl[100]] = 'China'\n",
    "cntry_change[cntry_chkl[101]] = 'India'\n",
    "cntry_change[cntry_chkl[102]] = 'Indonesia'\n",
    "cntry_change[cntry_chkl[103]] = 'China'\n",
    "cntry_change[cntry_chkl[104]] = 'Malaysia'\n",
    "cntry_change[cntry_chkl[105]] = 'Mexico'\n",
    "cntry_change[cntry_chkl[106]] = 'Angola'"
   ]
  },
  {
   "cell_type": "code",
   "execution_count": 9,
   "metadata": {},
   "outputs": [
    {
     "data": {
      "text/plain": [
       "['Congo',\n",
       " 'Congo, The Democratic Republic of the',\n",
       " \"Côte d'Ivoire\",\n",
       " 'Tanzania, United Republic of']"
      ]
     },
     "execution_count": 9,
     "metadata": {},
     "output_type": "execute_result"
    }
   ],
   "source": [
    "for cntry in cntry_chkl:\n",
    "    coll.update_many({'Common_Name': animal_df['Common_Name'][i]})"
   ]
  },
  {
   "cell_type": "code",
   "execution_count": 24,
   "metadata": {},
   "outputs": [
    {
     "name": "stdout",
     "output_type": "stream",
     "text": [
      "bbbb\n"
     ]
    }
   ],
   "source": [
    "try:\n",
    "    it = coll.find_one({'Common_Name': animal_df['Common_Name'][1]})['Native_Extant_Cntry']\n",
    "    print(\"aaaa\")\n",
    "except KeyError:\n",
    "    print(\"bbbb\")"
   ]
  },
  {
   "cell_type": "code",
   "execution_count": null,
   "metadata": {},
   "outputs": [],
   "source": []
  }
 ],
 "metadata": {
  "kernelspec": {
   "display_name": "Python 3",
   "language": "python",
   "name": "python3"
  },
  "language_info": {
   "codemirror_mode": {
    "name": "ipython",
    "version": 3
   },
   "file_extension": ".py",
   "mimetype": "text/x-python",
   "name": "python",
   "nbconvert_exporter": "python",
   "pygments_lexer": "ipython3",
   "version": "3.7.1"
  }
 },
 "nbformat": 4,
 "nbformat_minor": 2
}
