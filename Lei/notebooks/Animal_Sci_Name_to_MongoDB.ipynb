{
 "cells": [
  {
   "cell_type": "code",
   "execution_count": 1,
   "metadata": {},
   "outputs": [],
   "source": [
    "# Module used to connect Python to MongoDB\n",
    "import pymongo"
   ]
  },
  {
   "cell_type": "code",
   "execution_count": 2,
   "metadata": {},
   "outputs": [],
   "source": [
    "# Dependencies -cont'd\n",
    "import pandas as pd"
   ]
  },
  {
   "cell_type": "code",
   "execution_count": 3,
   "metadata": {},
   "outputs": [
    {
     "data": {
      "text/html": [
       "<div>\n",
       "<style scoped>\n",
       "    .dataframe tbody tr th:only-of-type {\n",
       "        vertical-align: middle;\n",
       "    }\n",
       "\n",
       "    .dataframe tbody tr th {\n",
       "        vertical-align: top;\n",
       "    }\n",
       "\n",
       "    .dataframe thead th {\n",
       "        text-align: right;\n",
       "    }\n",
       "</style>\n",
       "<table border=\"1\" class=\"dataframe\">\n",
       "  <thead>\n",
       "    <tr style=\"text-align: right;\">\n",
       "      <th></th>\n",
       "      <th>Common_Name</th>\n",
       "      <th>Other_Name</th>\n",
       "      <th>Sci_Name</th>\n",
       "    </tr>\n",
       "  </thead>\n",
       "  <tbody>\n",
       "    <tr>\n",
       "      <th>0</th>\n",
       "      <td>African Elephant</td>\n",
       "      <td>NaN</td>\n",
       "      <td>Loxodonta africana</td>\n",
       "    </tr>\n",
       "    <tr>\n",
       "      <th>1</th>\n",
       "      <td>African Wild Dog</td>\n",
       "      <td>NaN</td>\n",
       "      <td>Lycaon pictus</td>\n",
       "    </tr>\n",
       "    <tr>\n",
       "      <th>2</th>\n",
       "      <td>Albacore Tuna</td>\n",
       "      <td>NaN</td>\n",
       "      <td>Thunnus alalunga</td>\n",
       "    </tr>\n",
       "    <tr>\n",
       "      <th>3</th>\n",
       "      <td>Amazon River Dolphin</td>\n",
       "      <td>NaN</td>\n",
       "      <td>Inia geoffrensis</td>\n",
       "    </tr>\n",
       "    <tr>\n",
       "      <th>4</th>\n",
       "      <td>Amur Leopard</td>\n",
       "      <td>NaN</td>\n",
       "      <td>Panthera pardus</td>\n",
       "    </tr>\n",
       "  </tbody>\n",
       "</table>\n",
       "</div>"
      ],
      "text/plain": [
       "            Common_Name Other_Name            Sci_Name\n",
       "0      African Elephant        NaN  Loxodonta africana\n",
       "1      African Wild Dog        NaN       Lycaon pictus\n",
       "2         Albacore Tuna        NaN    Thunnus alalunga\n",
       "3  Amazon River Dolphin        NaN    Inia geoffrensis\n",
       "4          Amur Leopard        NaN     Panthera pardus"
      ]
     },
     "execution_count": 3,
     "metadata": {},
     "output_type": "execute_result"
    }
   ],
   "source": [
    "# Read country info provided on https://countrycode.org/ and convert it to Pandas DataFrame\n",
    "name_df = pd.read_csv('../data/cleandata/animal_names.csv', encoding='UTF-8')\n",
    "\n",
    "# Preview \"animal_df\"\n",
    "name_df.head()"
   ]
  },
  {
   "cell_type": "code",
   "execution_count": 4,
   "metadata": {},
   "outputs": [],
   "source": [
    "# Setup connection to MongoDB using default port 27017\n",
    "conn = 'mongodb://localhost:27017'\n",
    "client = pymongo.MongoClient(conn)"
   ]
  },
  {
   "cell_type": "code",
   "execution_count": 5,
   "metadata": {},
   "outputs": [],
   "source": [
    "# Establish \"EndangeredAnimalDB\" Database and \"animal_facts\" Collection\n",
    "db = client.EndangeredAnimalDB\n",
    "coll = db.animal_facts"
   ]
  },
  {
   "cell_type": "code",
   "execution_count": 6,
   "metadata": {},
   "outputs": [],
   "source": [
    "# Loop through name list\n",
    "for i in range(len(name_df)):\n",
    "\n",
    "    # Update \"animal_facts\" Collection with \"Other_Name\" and \"Sci_Name\"\n",
    "    coll.update_one(\n",
    "        {'Common_Name': name_df[\"Common_Name\"][i]},\n",
    "        {\n",
    "            '$set': {'Other_Name': name_df[\"Other_Name\"][i],\n",
    "                     'Sci_Name': name_df[\"Sci_Name\"][i]\n",
    "                    }                        \n",
    "        }\n",
    "    )"
   ]
  }
 ],
 "metadata": {
  "kernelspec": {
   "display_name": "Python 3",
   "language": "python",
   "name": "python3"
  },
  "language_info": {
   "codemirror_mode": {
    "name": "ipython",
    "version": 3
   },
   "file_extension": ".py",
   "mimetype": "text/x-python",
   "name": "python",
   "nbconvert_exporter": "python",
   "pygments_lexer": "ipython3",
   "version": "3.7.1"
  }
 },
 "nbformat": 4,
 "nbformat_minor": 2
}
