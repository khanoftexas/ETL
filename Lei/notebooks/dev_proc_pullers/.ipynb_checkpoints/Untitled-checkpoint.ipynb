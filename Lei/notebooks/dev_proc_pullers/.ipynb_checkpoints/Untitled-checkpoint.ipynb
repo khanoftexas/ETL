{
 "cells": [
  {
   "cell_type": "code",
   "execution_count": 1,
   "metadata": {},
   "outputs": [],
   "source": [
    "import pymongo\n",
    "from pprint import pprint"
   ]
  },
  {
   "cell_type": "code",
   "execution_count": 2,
   "metadata": {},
   "outputs": [],
   "source": [
    "conn = 'mongodb://localhost:27017'\n",
    "client = pymongo.MongoClient(conn)"
   ]
  },
  {
   "cell_type": "code",
   "execution_count": 22,
   "metadata": {},
   "outputs": [],
   "source": [
    "db = client.fruits_db\n",
    "coll = db.fruits"
   ]
  },
  {
   "cell_type": "code",
   "execution_count": 71,
   "metadata": {},
   "outputs": [
    {
     "name": "stdout",
     "output_type": "stream",
     "text": [
      "no comment\n",
      "no comment\n",
      "['abc', 'cde', 'efg']\n",
      "['abc', 'cde', 'efg']\n"
     ]
    }
   ],
   "source": [
    "records = coll.find()\n",
    "for rcd in records:\n",
    "    try:\n",
    "        pprint(rcd['comment'])\n",
    "    except KeyError:\n",
    "        print(f'no comment')\n",
    "        pass"
   ]
  },
  {
   "cell_type": "code",
   "execution_count": null,
   "metadata": {},
   "outputs": [],
   "source": []
  },
  {
   "cell_type": "code",
   "execution_count": null,
   "metadata": {},
   "outputs": [],
   "source": [
    "# coll.insert_one(\n",
    "#     {\n",
    "#         'vendor name': 'sdfwef',\n",
    "#         'fruit': 'starfruit',\n",
    "#         'quantity': 3,\n",
    "#         'ripeness': 1,\n",
    "#         'comment': ['abc', 'cde', 'efg']\n",
    "#     })\n"
   ]
  },
  {
   "cell_type": "code",
   "execution_count": 73,
   "metadata": {},
   "outputs": [
    {
     "name": "stdout",
     "output_type": "stream",
     "text": [
      "{'_id': ObjectId('5cccd32d3830ebab4a2712ed'), 'vendor name': 'farmers_market', 'fruit': 'dragonfruit', 'quantity': 3, 'ripeness': 2}\n",
      "{'_id': ObjectId('5cd03ed1dc19f83da5216989'), 'vendor name': 'sdfwef', 'fruit': 'starfruit', 'quantity': 3, 'ripeness': 1}\n",
      "{'_id': ObjectId('5cd06b350d468dfca9b486eb'), 'vendor name': 'sdfwef', 'fruit': 'starfruit', 'quantity': 3, 'ripeness': 1, 'comment': ['abc', 'cde', 'efg']}\n",
      "{'_id': ObjectId('5cd06b370d468dfca9b486ec'), 'vendor name': 'sdfwef', 'fruit': 'starfruit', 'quantity': 3, 'ripeness': 1, 'comment': ['abc', 'cde', 'efg']}\n"
     ]
    }
   ],
   "source": [
    "for i in coll.find({}):\n",
    "    print(i)\n"
   ]
  },
  {
   "cell_type": "code",
   "execution_count": 93,
   "metadata": {},
   "outputs": [],
   "source": [
    "try:\n",
    "    coll.update_many(\n",
    "        {},\n",
    "        {\n",
    "            '$set': {\n",
    "                'comment.$[filter]': 'OMG'\n",
    "            }\n",
    "        },\n",
    "\n",
    "        array_filters = [{'filter': 'abc'}]\n",
    "    )\n",
    "except:\n",
    "    pass\n",
    "    "
   ]
  },
  {
   "cell_type": "code",
   "execution_count": 96,
   "metadata": {},
   "outputs": [
    {
     "name": "stdout",
     "output_type": "stream",
     "text": [
      "www\n",
      "more?\n"
     ]
    }
   ],
   "source": [
    "try:\n",
    "    if ckdict['efg']:\n",
    "        print(\"www\")\n",
    "    else:\n",
    "        print(\"OOO\")\n",
    "except:\n",
    "    print('BBB')\n",
    "    \n",
    "print('more?')"
   ]
  },
  {
   "cell_type": "code",
   "execution_count": 100,
   "metadata": {},
   "outputs": [],
   "source": [
    "ckdict = {\n",
    "    'bbt': \"UUR\",\n",
    "    'xyz': \"MMT\",\n",
    "    'efg': 'OMG'}\n"
   ]
  },
  {
   "cell_type": "code",
   "execution_count": 101,
   "metadata": {},
   "outputs": [],
   "source": [
    "\n",
    "for item in coll.find_one({'vendor name' : 'dda'})['comment']:\n",
    "    try:\n",
    "        if ckdict[item]:\n",
    "            coll.update_many(\n",
    "                {\n",
    "                    'vendor name' : 'dda'\n",
    "                },\n",
    "                {\n",
    "                    '$pull': {'comment': item}\n",
    "                }\n",
    "            )\n",
    "            \n",
    "            if ckdict[item] not in coll.find_one({'vendor name' : 'dda'})['comment']:\n",
    "                coll.update_many(\n",
    "                    {\n",
    "                        'vendor name' : 'dda'\n",
    "                    },\n",
    "                    {\n",
    "                        '$push': {'comment': ckdict[item]}\n",
    "                    }\n",
    "                )\n",
    "    except:\n",
    "        pass\n",
    "\n",
    "    "
   ]
  },
  {
   "cell_type": "code",
   "execution_count": null,
   "metadata": {},
   "outputs": [],
   "source": []
  }
 ],
 "metadata": {
  "kernelspec": {
   "display_name": "Python 3",
   "language": "python",
   "name": "python3"
  },
  "language_info": {
   "codemirror_mode": {
    "name": "ipython",
    "version": 3
   },
   "file_extension": ".py",
   "mimetype": "text/x-python",
   "name": "python",
   "nbconvert_exporter": "python",
   "pygments_lexer": "ipython3",
   "version": "3.7.1"
  }
 },
 "nbformat": 4,
 "nbformat_minor": 2
}
