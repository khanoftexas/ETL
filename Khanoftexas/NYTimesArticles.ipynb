{
 "cells": [
  {
   "cell_type": "code",
   "execution_count": 1,
   "metadata": {},
   "outputs": [],
   "source": [
    "import requests\n",
    "from pprint import pprint\n",
    "from Config import api_key\n",
    "from splinter import Browser\n",
    "from bs4 import BeautifulSoup as bs\n",
    "import time\n",
    "import pymongo\n",
    "nytimesurl = \"https://api.nytimes.com/svc/search/v2/articlesearch.json?\"\n",
    "conn = 'mongodb://localhost:27017'\n",
    "client = pymongo.MongoClient(conn)\n",
    "# Define database and collection\n",
    "db = client.endangered_db\n",
    "collection = db.articles"
   ]
  },
  {
   "cell_type": "code",
   "execution_count": 7,
   "metadata": {},
   "outputs": [
    {
     "name": "stdout",
     "output_type": "stream",
     "text": [
      "['African Elephant', 'African Wild Dog', 'Albacore Tuna', 'Amazon River Dolphin', 'Amur Leopard', 'Amur Tiger', 'Arctic Fox', 'Arctic Wolf', 'Asian Elephant', 'Beluga', 'Bengal Tiger', 'Bigeye Tuna', 'Black Rhino', 'Black Spider Monkey', 'Black-footed Ferret', 'Blue Whale', 'Bluefin Tuna', 'Bonobo', 'Bornean Orangutan', 'Borneo Pygmy Elephant', 'Bowhead Whale', 'Brown Bear', 'Chimpanzee', 'Common Bottlenose Dolphin', 'Cross River Gorilla', 'Dolphins and Porpoises', 'Dugong', 'Eastern Lowland Gorilla', 'Elephant', 'Fin Whale', 'Forest Elephant', 'Galápagos Penguin', 'Ganges River Dolphin', 'Giant Panda', 'Giant Tortoise', 'Gorilla', 'Gray Whale', 'Great White Shark', 'Greater One-Horned Rhino', 'Greater Sage-Grouse', 'Green Turtle', 'Hawksbill Turtle', \"Hector's Dolphin\", 'Hippopotamus', 'Humphead Wrasse', 'Indian Elephant', 'Indochinese Tiger', 'Indus River Dolphin', 'Irrawaddy Dolphin', 'Jaguar', 'Javan Rhino', 'Leatherback Turtle', 'Loggerhead Turtle', 'Macaw', 'Malayan Tiger', 'Marine Iguana', 'Monarch Butterfly', 'Mountain Gorilla', 'Mountain Plover', 'Narwhal', 'North Atlantic Right Whale', 'Olive Ridley Turtle', 'Orangutan', 'Pacific Salmon', 'Pangolin', 'Penguin', 'Plains Bison', 'Poison Dart Frog', 'Polar Bear', 'Pronghorn', 'Red Panda', 'Rhino', 'Saola', 'Savanna Elephant', 'Sea Lions', 'Sea Turtle', 'Seals', 'Sei Whale', 'Shark', 'Skipjack Tuna', 'Sloth', 'Snow Leopard', 'South China Tiger', 'Southern rockhopper penguin', 'Sri Lankan Elephant', 'Sumatran Elephant', 'Sumatran Orangutan', 'Sumatran Rhino', 'Sumatran Tiger', 'Swift Fox', 'Tiger', 'Tree Kangaroo', 'Tuna', 'Vaquita', 'Western Lowland Gorilla', 'Whale', 'Whale Shark', 'White Rhino', 'Yangtze Finless Porpoise', 'Yellowfin Tuna']\n"
     ]
    }
   ],
   "source": [
    "endangered_animals = []\n",
    "for i in range(1,3,1):\n",
    "     \n",
    "    url = \"https://www.worldwildlife.org/species/directory?page=\" + str(i)\n",
    "    response = requests.get(url)\n",
    "    time.sleep(1)\n",
    "\n",
    "# Scrape page into Soup\n",
    "\n",
    "    soup = bs(response.text, 'html')\n",
    "\n",
    "    results = soup.find_all('td', class_ ='keep')\n",
    "\n",
    "    for result in results:\n",
    "       animal = result.text.strip()\n",
    "       endangered_animals.append(animal)\n",
    "print(endangered_animals)"
   ]
  },
  {
   "cell_type": "code",
   "execution_count": 8,
   "metadata": {},
   "outputs": [
    {
     "name": "stdout",
     "output_type": "stream",
     "text": [
      "https://www.nytimes.com/2019/05/03/travel/black-mamba-anti-poaching-safari.html\n",
      "https://www.nytimes.com/reuters/2019/05/03/world/africa/03reuters-france-benin.html\n",
      "https://www.nytimes.com/aponline/2019/04/30/world/asia/ap-as-malaysia-illegal-ivory-trade.html\n",
      "https://www.nytimes.com/reuters/2019/04/30/world/asia/30reuters-malaysia-wildlife-ivory.html\n",
      "https://www.nytimes.com/2019/04/30/lens/trafficked-animals-colombia.html\n",
      "https://www.nytimes.com/2019/04/29/business/airlines-long-haul-flights-wellness.html\n",
      "https://www.nytimes.com/aponline/2019/04/29/us/ap-us-environmental-prize.html\n",
      "https://www.nytimes.com/2019/04/27/science/giraffes-endangered-species.html\n",
      "https://www.nytimes.com/aponline/2019/04/25/us/politics/ap-us-trump-giraffes-endangered.html\n",
      "https://www.nytimes.com/2019/04/17/obituaries/aloha-wanderwell-overlooked.html\n",
      "https://www.nytimes.com/2019/04/05/books/review/poetry-picture-books.html\n",
      "https://www.nytimes.com/2019/03/26/movies/new-directors-new-films-critics-notebook.html\n",
      "https://www.nytimes.com/2019/03/21/dining/pilar-cuban-bakery-review.html\n",
      "https://www.nytimes.com/interactive/2019/03/07/magazine/top-songs.html\n",
      "https://www.nytimes.com/2019/02/07/theater/whats-new-in-nyc-theater.html\n",
      "https://www.nytimes.com/2019/02/05/dining/nyc-restaurant-news.html\n",
      "https://www.nytimes.com/2019/01/16/nyregion/newyorktoday/new-york-news-wall-ellis-island.html\n",
      "https://www.nytimes.com/2019/01/09/style/jared-polis-gay-governor.html\n",
      "https://www.nytimes.com/2019/01/01/arts/television/best-movies-tv-netflix-amazon-hulu-hbo-january.html\n",
      "https://www.nytimes.com/2018/11/12/us/politics/republicans-florida-recount.html\n",
      "https://www.nytimes.com/2018/10/09/magazine/poke-long-island-fresh-fish.html\n",
      "https://www.nytimes.com/2018/08/06/t-magazine/polynesian-cuisine.html\n",
      "https://www.nytimes.com/2018/07/23/dining/canned-heat.html\n",
      "https://www.nytimes.com/2018/03/26/well/is-it-time-to-give-up-on-fish-oil.html\n",
      "https://www.nytimes.com/2018/01/30/dining/albacore-tuna-brooklyn.html\n",
      "https://www.nytimes.com/2017/09/13/travel/washington-idaho-fishing-restaurants-budget.html\n",
      "https://www.nytimes.com/2017/08/09/travel/beverly-hills-los-angeles-budget-shopping.html\n",
      "https://www.nytimes.com/2016/10/26/dining/sushi-on-jones-review.html\n",
      "https://well.blogs.nytimes.com/2016/10/07/why-is-fish-good-for-you-because-it-replaces-meat/\n",
      "https://www.nytimes.com/2016/04/26/science/food-for-retaining-thought.html\n",
      "https://www.nytimes.com/2019/04/29/books/review/vanessa-woods-brian-hare-dogs.html\n",
      "https://www.nytimes.com/2019/04/10/arts/television/our-planet-netflix-review.html\n",
      "https://www.nytimes.com/2019/02/25/science/humpback-whales-amazon.html\n",
      "https://www.nytimes.com/2018/05/21/travel/alaska-inside-passage-john-muir-ferries.html\n",
      "https://www.nytimes.com/2018/04/05/briefing/the-week-in-good-news-sweater-man-matt-parziale-snow-monkeys.html\n",
      "https://www.nytimes.com/2018/04/05/science/drones-infrared-cameras-animals.html\n",
      "https://www.nytimes.com/2017/11/02/movies/a-river-below-review.html\n",
      "https://www.nytimes.com/2017/07/06/theater/hes-got-a-good-wig-on-his-shoulders-meet-cole-escola.html\n",
      "https://www.nytimes.com/2017/04/20/opinion/when-in-the-amazon-please-do-not-punch-the-dolphins.html\n",
      "https://www.nytimes.com/interactive/2016/12/19/books/review/25year-in-reading.html\n",
      "https://www.nytimes.com/2019/04/09/world/asia/chinas-voracious-appetite-for-timber-stokes-fury-in-russia-and-beyond.html\n",
      "https://www.nytimes.com/2016/05/05/science/leopards-are-more-vulnerable-than-believed-study-finds.html\n",
      "https://www.nytimes.com/2016/02/21/opinion/sunday/for-loggings-crimes-tougher-punishments.html\n",
      "https://sinosphere.blogs.nytimes.com/2015/02/27/hopeful-signs-of-recovery-for-the-worlds-rarest-big-cat/\n",
      "https://www.nytimes.com/2014/10/11/world/asia/putins-tiger-crosses-into-china-prompting-a-diplomatic-rush.html\n",
      "https://www.nytimes.com/2014/08/02/nyregion/staten-island-zoo-capitalizes-on-the-small-and-obscure.html\n",
      "https://cityroom.blogs.nytimes.com/2014/01/10/new-york-today-new-at-the-zoo/\n",
      "https://cityroom.blogs.nytimes.com/2014/01/07/new-york-today-life-threatening-wind-chill/\n",
      "https://cityroom.blogs.nytimes.com/2013/11/22/new-york-today-losers/\n",
      "https://dotearth.blogs.nytimes.com/2010/09/15/saving-wild-tigers-cheaply-with-apples-help/\n",
      "https://www.nytimes.com/2019/04/09/world/asia/chinas-voracious-appetite-for-timber-stokes-fury-in-russia-and-beyond.html\n",
      "https://www.nytimes.com/2018/10/25/briefing/explosives-google-midterms.html\n",
      "https://www.nytimes.com/2018/10/25/science/six-tiger-subspecies.html\n",
      "https://www.nytimes.com/2017/08/23/travel/kazakhstan-world-expo-astana.html\n",
      "https://www.nytimes.com/2016/05/05/science/leopards-are-more-vulnerable-than-believed-study-finds.html\n",
      "https://www.nytimes.com/2016/02/21/opinion/sunday/for-loggings-crimes-tougher-punishments.html\n",
      "https://dotearth.blogs.nytimes.com/2015/11/24/rare-video-of-russian-amur-tiger-and-cubs-hints-at-progress-in-poaching-fight/\n",
      "https://www.nytimes.com/2015/10/19/opinion/making-pesto-hold-the-pine-nuts.html\n",
      "https://sinosphere.blogs.nytimes.com/2015/02/27/hopeful-signs-of-recovery-for-the-worlds-rarest-big-cat/\n",
      "https://www.nytimes.com/2014/12/11/world/asia/siberian-tiger-freed-to-roam-by-putin-returns-from-china-sojourn.html\n",
      "https://www.nytimes.com/2019/03/28/climate/david-bernhardt-interior-secretary-senate.html\n",
      "https://www.nytimes.com/2019/03/04/travel/women-only-travel-trips.html\n",
      "https://www.nytimes.com/2019/02/18/books/review/akiko-busch-how-to-disappear-jane-brox-silence.html\n",
      "https://www.nytimes.com/2019/01/31/style/fur-black-women-history.html\n",
      "https://www.nytimes.com/interactive/2019/01/29/magazine/china-globalization-kazakhstan.html\n",
      "https://www.nytimes.com/2018/10/15/us/politics/on-politics-with-lisa-lerer-doing-what-she-can.html\n",
      "https://www.nytimes.com/2018/08/14/books/review/home-library-organization-dewey-decimal-system.html\n",
      "https://www.nytimes.com/interactive/2018/08/01/magazine/climate-change-losing-earth.html\n",
      "https://www.nytimes.com/2018/07/18/briefing/trump-google-fine-british-open.html\n",
      "https://www.nytimes.com/2018/04/25/realestate/living-in-bergenfield-nj.html\n",
      "https://www.nytimes.com/interactive/2019/04/10/t-magazine/adam-rapp-play.html\n",
      "https://www.nytimes.com/2019/01/10/movies/a-dogs-way-home-review.html\n",
      "https://www.nytimes.com/interactive/2018/08/01/magazine/climate-change-losing-earth.html\n",
      "https://www.nytimes.com/2018/07/22/opinion/editorials/zinke-interior-endangered-species.html\n",
      "https://www.nytimes.com/2018/07/19/climate/endangered-species-act-changes.html\n",
      "https://www.nytimes.com/2018/05/01/books/review/match-book-travel.html\n",
      "https://www.nytimes.com/2018/03/28/science/arctic-foxes-inbreeding.html\n",
      "https://www.nytimes.com/2018/03/13/magazine/should-some-species-be-allowed-to-die-out.html\n",
      "https://www.nytimes.com/interactive/2018/03/08/magazine/25-songs-future-of-music.html\n",
      "https://www.nytimes.com/2018/01/17/arts/television/whats-on-tv-wednesday-american-crime-story-and-riverdale.html\n",
      "https://www.nytimes.com/2019/05/02/learning/what-students-are-saying-about-online-learning-family-vacations-and-moving-to-a-new-home.html\n",
      "https://www.nytimes.com/aponline/2019/04/30/world/asia/ap-as-malaysia-illegal-ivory-trade.html\n",
      "https://www.nytimes.com/reuters/2019/04/30/world/asia/30reuters-malaysia-wildlife-ivory.html\n",
      "https://www.nytimes.com/aponline/2019/04/29/us/ap-us-environmental-prize.html\n",
      "https://www.nytimes.com/reuters/2019/04/26/world/asia/26reuters-sri-lanka-blasts-mastermind.html\n",
      "https://www.nytimes.com/reuters/2019/04/26/world/asia/26reuters-sri-lanka-blasts-mastermind-insight.html\n",
      "https://www.nytimes.com/2019/04/21/fashion/weddings/this-weeks-wedding-announcements.html\n",
      "https://www.nytimes.com/2019/04/20/fashion/weddings/a-trunk-a-box-and-a-bent-knee.html\n",
      "https://www.nytimes.com/2019/04/17/obituaries/aloha-wanderwell-overlooked.html\n",
      "https://www.nytimes.com/2019/04/15/business/dealbook/goldman-trump-2020.html\n",
      "https://www.nytimes.com/2019/05/02/us/politics/on-politics-biden-electability.html\n",
      "https://www.nytimes.com/aponline/2019/05/02/world/europe/ap-eu-norway-beluga-whale.html\n",
      "https://www.nytimes.com/2019/05/01/briefing/william-barr-north-carolina-fossils.html\n",
      "https://www.nytimes.com/2019/05/01/briefing/william-barr-huawei-caster-semenya.html\n",
      "https://www.nytimes.com/aponline/2019/04/30/us/ap-us-stranded-whale-the-latest.html\n",
      "https://www.nytimes.com/aponline/2019/04/30/us/ap-us-stranded-whale.html\n",
      "https://www.nytimes.com/2019/04/30/magazine/beluga-whale-russia-military-dolphins.html\n",
      "https://www.nytimes.com/aponline/2019/04/30/world/europe/ap-eu-norway-beluga-whale.html\n",
      "https://www.nytimes.com/2019/04/29/us/politics/on-politics-white-nationalism.html\n",
      "https://www.nytimes.com/aponline/2019/04/29/world/europe/ap-eu-norway-beluga-whale.html\n"
     ]
    },
    {
     "name": "stdout",
     "output_type": "stream",
     "text": [
      "https://www.nytimes.com/reuters/2019/04/29/sports/football/29reuters-football-nfl-notebook.html\n",
      "https://www.nytimes.com/aponline/2019/04/29/world/asia/ap-as-sri-lanka-blasts-tense-east.html\n",
      "https://www.nytimes.com/aponline/2019/04/28/world/asia/ap-as-sri-lanka-blasts-tense-east.html\n",
      "https://www.nytimes.com/aponline/2019/04/25/us/ap-us-tiger-attack.html\n",
      "https://www.nytimes.com/2019/04/12/nyregion/newyorktoday/nyc-news-fnu-lnu-unidentified-defendants.html\n",
      "https://www.nytimes.com/2019/01/24/briefing/government-shutdown-venezuela-ebola.html\n",
      "https://www.nytimes.com/2019/01/23/obituaries/mabel-stark-overlooked.html\n",
      "https://www.nytimes.com/2018/11/16/books/review/anita-felicelli-love-songs-lost-continent-useful-phrases-immigrants-may-lee-chai.html\n",
      "https://www.nytimes.com/2018/10/25/briefing/explosives-google-midterms.html\n",
      "https://www.nytimes.com/2018/10/25/science/six-tiger-subspecies.html\n"
     ]
    },
    {
     "ename": "KeyError",
     "evalue": "'response'",
     "output_type": "error",
     "traceback": [
      "\u001b[1;31m---------------------------------------------------------------------------\u001b[0m",
      "\u001b[1;31mKeyError\u001b[0m                                  Traceback (most recent call last)",
      "\u001b[1;32m<ipython-input-8-5db9944f78c2>\u001b[0m in \u001b[0;36m<module>\u001b[1;34m()\u001b[0m\n\u001b[0;32m     13\u001b[0m \u001b[1;31m# The \"response\" property in articles contains the actual articles\u001b[0m\u001b[1;33m\u001b[0m\u001b[1;33m\u001b[0m\u001b[0m\n\u001b[0;32m     14\u001b[0m \u001b[1;31m# list comprehension.\u001b[0m\u001b[1;33m\u001b[0m\u001b[1;33m\u001b[0m\u001b[0m\n\u001b[1;32m---> 15\u001b[1;33m     \u001b[0marticles_list\u001b[0m \u001b[1;33m=\u001b[0m \u001b[1;33m[\u001b[0m\u001b[0marticle\u001b[0m \u001b[1;32mfor\u001b[0m \u001b[0marticle\u001b[0m \u001b[1;32min\u001b[0m \u001b[0marticles\u001b[0m\u001b[1;33m[\u001b[0m\u001b[1;34m\"response\"\u001b[0m\u001b[1;33m]\u001b[0m\u001b[1;33m[\u001b[0m\u001b[1;34m\"docs\"\u001b[0m\u001b[1;33m]\u001b[0m\u001b[1;33m]\u001b[0m\u001b[1;33m\u001b[0m\u001b[0m\n\u001b[0m\u001b[0;32m     16\u001b[0m     \u001b[1;32mfor\u001b[0m \u001b[0marticle\u001b[0m \u001b[1;32min\u001b[0m \u001b[0marticles_list\u001b[0m\u001b[1;33m:\u001b[0m\u001b[1;33m\u001b[0m\u001b[0m\n\u001b[0;32m     17\u001b[0m         \u001b[0mprint\u001b[0m\u001b[1;33m(\u001b[0m\u001b[0marticle\u001b[0m\u001b[1;33m[\u001b[0m\u001b[1;34m\"web_url\"\u001b[0m\u001b[1;33m]\u001b[0m\u001b[1;33m)\u001b[0m\u001b[1;33m\u001b[0m\u001b[0m\n",
      "\u001b[1;31mKeyError\u001b[0m: 'response'"
     ]
    }
   ],
   "source": [
    "# Search for articles that mention granola\n",
    "\n",
    "for animals in endangered_animals:\n",
    "    query =  animals\n",
    "\n",
    "    # Build query URL\n",
    "\n",
    "    query_url = nytimesurl + 'q='+query+'&api-key='+api_key+'&sort=newest'\n",
    "#   query_url\n",
    "# Request articles\n",
    "    articles = requests.get(query_url).json()\n",
    "\n",
    "# The \"response\" property in articles contains the actual articles\n",
    "# list comprehension.\n",
    "    articles_list = [article for article in articles[\"response\"][\"docs\"]]\n",
    "    for article in articles_list:\n",
    "        print(article[\"web_url\"])\n",
    "        # Dictionary to be inserted as a MongoDB document\n",
    "        articles_dict = {\n",
    "            'endagered_animal': animals,\n",
    "            'url': article[\"web_url\"]\n",
    "        }\n",
    "        collection.insert_one(articles_dict)\n"
   ]
  },
  {
   "cell_type": "code",
   "execution_count": 9,
   "metadata": {},
   "outputs": [
    {
     "name": "stdout",
     "output_type": "stream",
     "text": [
      "{'_id': ObjectId('5cce68376ca91420c4b53a08'), 'endagered_animal': \"'African Elephant'\", 'url': 'https://www.nytimes.com/2019/04/30/lens/trafficked-animals-colombia.html'}\n",
      "{'_id': ObjectId('5cce68376ca91420c4b53a09'), 'endagered_animal': \"'African Elephant'\", 'url': 'https://www.nytimes.com/aponline/2019/04/25/us/politics/ap-us-trump-giraffes-endangered.html'}\n",
      "{'_id': ObjectId('5cce68376ca91420c4b53a0a'), 'endagered_animal': \"'African Elephant'\", 'url': 'https://www.nytimes.com/2019/03/28/science/scotty-t-rex-fossil.html'}\n"
     ]
    }
   ],
   "source": [
    "cursor = collection.find().limit(3)\n",
    "for doc in cursor:\n",
    "    print(doc)"
   ]
  },
  {
   "cell_type": "code",
   "execution_count": null,
   "metadata": {},
   "outputs": [],
   "source": []
  }
 ],
 "metadata": {
  "kernelspec": {
   "display_name": "Python 3",
   "language": "python",
   "name": "python3"
  },
  "language_info": {
   "codemirror_mode": {
    "name": "ipython",
    "version": 3
   },
   "file_extension": ".py",
   "mimetype": "text/x-python",
   "name": "python",
   "nbconvert_exporter": "python",
   "pygments_lexer": "ipython3",
   "version": "3.7.1"
  }
 },
 "nbformat": 4,
 "nbformat_minor": 2
}
