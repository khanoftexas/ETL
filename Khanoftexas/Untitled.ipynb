{
 "cells": [
  {
   "cell_type": "code",
   "execution_count": 25,
   "metadata": {},
   "outputs": [
    {
     "name": "stdout",
     "output_type": "stream",
     "text": [
      "https://www.nytimes.com/2016/06/03/world/africa/elephant-ivory-ban.html\n",
      "https://www.nytimes.com/2018/07/11/movies/skyscraper-review-dwayne-johnson.html\n",
      "https://www.nytimes.com/2018/07/11/science/giant-dinosaurs-evolution.html\n",
      "https://www.nytimes.com/2016/09/06/science/africa-elephants-poaching-recovery.html\n",
      "https://www.nytimes.com/2019/01/01/science/wildlife-electrocution.html\n",
      "https://www.nytimes.com/2017/11/16/world/africa/trump-elephant-trophy.html\n",
      "https://www.nytimes.com/2018/05/07/science/elephants-earthquakes-vibrations.html\n",
      "https://www.nytimes.com/2017/11/17/opinion/trump-trophy-elephants.html\n",
      "https://www.nytimes.com/2018/09/04/world/africa/elephants-botswana-poaching.html\n",
      "https://www.nytimes.com/2018/08/20/opinion/what-does-it-mean-to-be-human-dont-ask.html\n"
     ]
    }
   ],
   "source": [
    "from nytimesarticle import articleAPI\n",
    "api = articleAPI('tPW2A4clTSUieL8L7zKRTjQMypw2OwMS')\n",
    "url =\"https://api.nytimes.com/svc/search/v2/articlesearch.json?q=\"\n",
    "#new+york+times&page=2&sort=oldest&api-key=your-api-key\n",
    "query = \"African+Elephant\"\n",
    "newest = 'newest'\n",
    "articles = api.search( q =query, page=1)\n",
    "# print(articles)\n",
    "articles = articles['response']['docs']\n",
    "for article in articles:\n",
    "    print(article['web_url']) "
   ]
  },
  {
   "cell_type": "code",
   "execution_count": null,
   "metadata": {},
   "outputs": [],
   "source": [
    "from nytimesarticle import articleAPI\n",
    "api = articleAPI('tPW2A4clTSUieL8L7zKRTjQMypw2OwMS')\n",
    "url =\"https://api.nytimes.com/svc/search/v2/articlesearch.json?q=\"\n",
    "#new+york+times&page=2&sort=oldest&api-key=your-api-key\n",
    "query = \"African+Elephant\"\n",
    "newest = 'newest'\n",
    "articles = api.search( q =query, page=1)\n",
    "# print(articles)\n",
    "articles = articles['response']['docs']\n",
    "for article in articles:\n",
    "    print(article['web_url']) "
   ]
  },
  {
   "cell_type": "code",
   "execution_count": null,
   "metadata": {},
   "outputs": [],
   "source": [
    "import requests\n",
    "from pprint import pprint\n",
    "from config import api_key\n",
    "url = \"https://api.nytimes.com/svc/search/v2/articlesearch.json?\""
   ]
  },
  {
   "cell_type": "code",
   "execution_count": null,
   "metadata": {},
   "outputs": [],
   "source": [
    "# Search for articles that mention granola\n",
    "query = \"African Elephant\"\n",
    "\n",
    "# Build query URL\n",
    "\n",
    "query_url = url + 'q='+query+'&api-key='+api_key+'&sort=newest'\n",
    "query_url\n",
    "# Request articles\n",
    "articles = requests.get(query_url).json()\n",
    "\n",
    "articles\n",
    "\n",
    "# The \"response\" property in articles contains the actual articles\n",
    "# list comprehension.\n",
    "articles_list = [\n",
    "    article for article in articles[\"response\"][\"docs\"]]\n",
    "for article in articles_list:\n",
    "    print(article[\"web_url\"])"
   ]
  }
 ],
 "metadata": {
  "kernelspec": {
   "display_name": "Python 3",
   "language": "python",
   "name": "python3"
  },
  "language_info": {
   "codemirror_mode": {
    "name": "ipython",
    "version": 3
   },
   "file_extension": ".py",
   "mimetype": "text/x-python",
   "name": "python",
   "nbconvert_exporter": "python",
   "pygments_lexer": "ipython3",
   "version": "3.7.0"
  }
 },
 "nbformat": 4,
 "nbformat_minor": 2
}
