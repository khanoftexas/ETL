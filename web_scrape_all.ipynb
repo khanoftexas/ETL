{
 "cells": [
  {
   "cell_type": "code",
   "execution_count": 3,
   "metadata": {},
   "outputs": [
    {
     "ename": "ModuleNotFoundError",
     "evalue": "No module named 'Config'",
     "output_type": "error",
     "traceback": [
      "\u001b[1;31m---------------------------------------------------------------------------\u001b[0m",
      "\u001b[1;31mModuleNotFoundError\u001b[0m                       Traceback (most recent call last)",
      "\u001b[1;32m<ipython-input-3-dc0112ac9c2a>\u001b[0m in \u001b[0;36m<module>\u001b[1;34m()\u001b[0m\n\u001b[0;32m      4\u001b[0m \u001b[1;32mimport\u001b[0m \u001b[0mrequests\u001b[0m\u001b[1;33m\u001b[0m\u001b[0m\n\u001b[0;32m      5\u001b[0m \u001b[1;32mimport\u001b[0m \u001b[0mpymongo\u001b[0m\u001b[1;33m\u001b[0m\u001b[0m\n\u001b[1;32m----> 6\u001b[1;33m \u001b[1;32mfrom\u001b[0m \u001b[0mConfig\u001b[0m \u001b[1;32mimport\u001b[0m \u001b[0mapi_key\u001b[0m\u001b[1;33m\u001b[0m\u001b[0m\n\u001b[0m",
      "\u001b[1;31mModuleNotFoundError\u001b[0m: No module named 'Config'"
     ]
    }
   ],
   "source": [
    "from splinter import Browser\n",
    "from bs4 import BeautifulSoup as bs\n",
    "import time\n",
    "import requests\n",
    "import pymongo\n",
    "from Config import api_key"
   ]
  },
  {
   "cell_type": "code",
   "execution_count": null,
   "metadata": {},
   "outputs": [],
   "source": [
    "# Initialize PyMongo to work with MongoDBs\n",
    "conn = 'mongodb://localhost:27017'\n",
    "client = pymongo.MongoClient(conn)"
   ]
  },
  {
   "cell_type": "code",
   "execution_count": null,
   "metadata": {},
   "outputs": [],
   "source": [
    "# Define database and collection\n",
    "db = client.wwf_species\n",
    "collection = db.species"
   ]
  },
  {
   "cell_type": "code",
   "execution_count": null,
   "metadata": {},
   "outputs": [],
   "source": [
    "#Creating a list of endangered species by scraping 2 pages of https://www.worldwildlife.org/species/directory?page=1\n",
    "\n",
    "endangered_animals = []\n",
    "for i in range(1,3):\n",
    "\n",
    "   url = \"https://www.worldwildlife.org/species/directory?page=\" + str(i)\n",
    "   response = requests.get(url)\n",
    "   time.sleep(1)\n",
    "\n",
    "# Scrape page into Soup\n",
    "\n",
    "   soup = bs(response.text, 'html')\n",
    "\n",
    "   results = soup.find_all('td', class_ ='keep')\n",
    "\n",
    "   for result in results:\n",
    "      animal = result.text\n",
    "      endangered_animals.append(animal)\n",
    "print(endangered_animals)"
   ]
  },
  {
   "cell_type": "code",
   "execution_count": null,
   "metadata": {},
   "outputs": [],
   "source": [
    "# Going to each species web page and scraping for image, and other information pertaining to status, population,\n",
    "# scientific name, description and image\n",
    "base_url = \"https://www.worldwildlife.org/species\"\n",
    "for animal in endangered_animals:\n",
    "    # Error handling\n",
    "    try:\n",
    "# Getting to each species URL    \n",
    "        animal_url = animal.replace(\" \",\"-\") \n",
    "        url = base_url +\"/\"+ animal_url\n",
    "        response = requests.get(url)\n",
    "# Scraping for information for each species        \n",
    "        soup = bs(response.text, 'html')\n",
    "        overview_species = soup.find('div', id='overview')\n",
    "        all_overview = overview_species.find_all('div', class_='container')\n",
    "        species_status = all_overview[0].text\n",
    "        species_population = all_overview[1].text\n",
    "        species_scientific_name = all_overview[2].text\n",
    "        species_description = soup.find('div', class_='wysiwyg lead').text\n",
    "        image_path = soup.find('img',class_='centered')\n",
    "        # Run only if title, price, and link are available\n",
    "        if (all_overview and species_description and image_path):\n",
    "            print(image_path)\n",
    "            species_image = image_path['src']\n",
    "        \n",
    "# Creating a dictionary and putting it all the scraped information together        \n",
    "            species_post = {\n",
    "                'Species Name' : animal,\n",
    "                'Status' : species_status,\n",
    "                'Population' : species_population,\n",
    "                'Scientific Name' : species_scientific_name,\n",
    "                'Species Description' : species_description,\n",
    "                'Species Image URL' : species_image\n",
    "            }\n",
    "# Inserting the record in the database collection    \n",
    "            collection.insert_one(species_post)\n",
    "    except Exception as e:\n",
    "        print(e)"
   ]
  },
  {
   "cell_type": "code",
   "execution_count": null,
   "metadata": {},
   "outputs": [],
   "source": [
    "# Display items in MongoDB collection\n",
    "specie_listings = db.species.find()\n",
    "\n",
    "for specie in specie_listings:\n",
    "    print(specie)\n"
   ]
  },
  {
   "cell_type": "code",
   "execution_count": null,
   "metadata": {},
   "outputs": [],
   "source": [
    "\n",
    "# Search for articles that mention animals\n",
    "\n",
    "Urls = []\n",
    "\n",
    " \n",
    "\n",
    "for animals in endangered_animals:\n",
    "\n",
    "    query =  animals\n",
    "\n",
    " \n",
    "\n",
    "    # Build query URL\n",
    "\n",
    " \n",
    "\n",
    "    query_url = nytimesurl + 'q='+query+'&api-key='+api_key+'&sort=newest'\n",
    "\n",
    "#   query_url\n",
    "\n",
    "# Request articles\n",
    "\n",
    "    articles = requests.get(query_url).json()\n",
    "\n",
    " \n",
    "\n",
    "# The \"response\" property in articles contains the actual articles\n",
    "\n",
    "# list comprehension.\n",
    "\n",
    "    articles_list = [article for article in articles[\"response\"][\"docs\"]]\n",
    "\n",
    "    for article in articles_list:     \n",
    "\n",
    "        Urls.append= article[\"web_url\"]\n",
    "\n",
    " \n",
    "\n",
    "# Dictionary to be inserted as a MongoDB document\n",
    "\n",
    "articles_dict = {\n",
    "\n",
    "    'endagered_animal': animals,\n",
    "\n",
    "    'url': [Urls]\n",
    "\n",
    "        }\n",
    "\n",
    "collection.insert_one(articles_dict)\n",
    "\n",
    " "
   ]
  }
 ],
 "metadata": {
  "kernelspec": {
   "display_name": "Python 3",
   "language": "python",
   "name": "python3"
  },
  "language_info": {
   "codemirror_mode": {
    "name": "ipython",
    "version": 3
   },
   "file_extension": ".py",
   "mimetype": "text/x-python",
   "name": "python",
   "nbconvert_exporter": "python",
   "pygments_lexer": "ipython3",
   "version": "3.7.0"
  }
 },
 "nbformat": 4,
 "nbformat_minor": 2
}
